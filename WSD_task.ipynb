{
  "nbformat": 4,
  "nbformat_minor": 0,
  "metadata": {
    "colab": {
      "name": "WSD_task.ipynb",
      "provenance": [],
      "toc_visible": true,
      "authorship_tag": "ABX9TyP4kdGXmXSKMUNyCOSv8xSA",
      "include_colab_link": true
    },
    "kernelspec": {
      "name": "python3",
      "display_name": "Python 3"
    }
  },
  "cells": [
    {
      "cell_type": "markdown",
      "metadata": {
        "id": "view-in-github",
        "colab_type": "text"
      },
      "source": [
        "<a href=\"https://colab.research.google.com/github/nikolmash/autobreya/blob/main/WSD_task.ipynb\" target=\"_parent\"><img src=\"https://colab.research.google.com/assets/colab-badge.svg\" alt=\"Open In Colab\"/></a>"
      ]
    },
    {
      "cell_type": "markdown",
      "metadata": {
        "id": "Wbw2icoRahyO"
      },
      "source": [
        "## острый\r\n",
        "(по МАС)\r\n",
        "\r\n",
        "\r\n",
        "1. Имеющий хорошо колющий конец или хорошо режущий край; противоп. тупой.\r\n",
        "2. С большим количеством соли, пряностей, специй (о пище). Острые блюда. Острый сыр. || Едкий, пряный (о приправах). Острый перец. Острая горчица.\r\n",
        "3. Остроумный, язвительный."
      ]
    },
    {
      "cell_type": "markdown",
      "metadata": {
        "id": "WU3Jr4dia9Wj"
      },
      "source": [
        "Я выбрала следующие **диагностические** слова\r\n",
        "\r\n",
        "для (1): лезвие, нож, бритва, ножницы, край\r\n",
        "\r\n",
        "для (2): соус, вкус, блюдо, перец\r\n",
        "\r\n",
        "для (3): слово, шутка, замечание, высказывание\r\n"
      ]
    },
    {
      "cell_type": "markdown",
      "metadata": {
        "id": "6cNLOrnyhxno"
      },
      "source": [
        "\r\n",
        "Для каждого толкования я собрала 20 примеров из НКРЯ — получился мини-корпус из 60 примеров"
      ]
    },
    {
      "cell_type": "code",
      "metadata": {
        "id": "wDvsf1NNadzG",
        "colab": {
          "base_uri": "https://localhost:8080/",
          "height": 254
        },
        "outputId": "cf43974b-d9c4-4a92-e6a3-830de0b1b045"
      },
      "source": [
        "import pandas as pd\r\n",
        "\r\n",
        "data = pd.read_csv('острый_корпус.csv', sep=';')\r\n",
        "pd.set_option('display.max_colwidth', 1000)\r\n",
        "\r\n",
        "data.head()"
      ],
      "execution_count": 6,
      "outputs": [
        {
          "output_type": "execute_result",
          "data": {
            "text/html": [
              "<div>\n",
              "<style scoped>\n",
              "    .dataframe tbody tr th:only-of-type {\n",
              "        vertical-align: middle;\n",
              "    }\n",
              "\n",
              "    .dataframe tbody tr th {\n",
              "        vertical-align: top;\n",
              "    }\n",
              "\n",
              "    .dataframe thead th {\n",
              "        text-align: right;\n",
              "    }\n",
              "</style>\n",
              "<table border=\"1\" class=\"dataframe\">\n",
              "  <thead>\n",
              "    <tr style=\"text-align: right;\">\n",
              "      <th></th>\n",
              "      <th>значение</th>\n",
              "      <th>пример</th>\n",
              "    </tr>\n",
              "  </thead>\n",
              "  <tbody>\n",
              "    <tr>\n",
              "      <th>0</th>\n",
              "      <td>1</td>\n",
              "      <td>Если в каком-то месте вам попадается тонкая берёста, её надо резать медленно, очень острым лезвием, которое следует постоянно оправлять (подтачивать) на ремне из кожи, предварительно покрывая его алмазной пастой или пастой Гоя (так парикмахеры раньше точили бритвы)</td>\n",
              "    </tr>\n",
              "    <tr>\n",
              "      <th>1</th>\n",
              "      <td>1</td>\n",
              "      <td>Я чувствовал, как острые лезвия слегка надавливают на виски, и под их напором лопается моя несчастная тонкая кожа</td>\n",
              "    </tr>\n",
              "    <tr>\n",
              "      <th>2</th>\n",
              "      <td>1</td>\n",
              "      <td>Гуцульский топор с узким острым лезвием на длинной, необычайно удобной рукоятке, буковая колода рассыпалась как будто сама, почти без усилия, не было сучков, тесных мест (надо вспомнить слово), в которых увязал топор.</td>\n",
              "    </tr>\n",
              "    <tr>\n",
              "      <th>3</th>\n",
              "      <td>1</td>\n",
              "      <td>Острым ножом или лезвием безопасной бритвы заточим, как показано на рисунке, кончик спички и приклеим к нему хвостовое оперение</td>\n",
              "    </tr>\n",
              "    <tr>\n",
              "      <th>4</th>\n",
              "      <td>1</td>\n",
              "      <td>Будучи одна в квартире (её гражданский муж, врач ?скорой помощи?, как раз дежурил), она открыла дверь ? вероятно, кому-то, кого знала, ? и этот знакомый первым делом прямо в прихожей острым лезвием (скорее всего, медицинским скальпелем) перерезал ей горло</td>\n",
              "    </tr>\n",
              "  </tbody>\n",
              "</table>\n",
              "</div>"
            ],
            "text/plain": [
              "   значение                                                                                                                                                                                                                                                                     пример\n",
              "0         1  Если в каком-то месте вам попадается тонкая берёста, её надо резать медленно, очень острым лезвием, которое следует постоянно оправлять (подтачивать) на ремне из кожи, предварительно покрывая его алмазной пастой или пастой Гоя (так парикмахеры раньше точили бритвы)\n",
              "1         1                                                                                                                                                          Я чувствовал, как острые лезвия слегка надавливают на виски, и под их напором лопается моя несчастная тонкая кожа\n",
              "2         1                                                 Гуцульский топор с узким острым лезвием на длинной, необычайно удобной рукоятке, буковая колода рассыпалась как будто сама, почти без усилия, не было сучков, тесных мест (надо вспомнить слово), в которых увязал топор. \n",
              "3         1                                                                                                                                            Острым ножом или лезвием безопасной бритвы заточим, как показано на рисунке, кончик спички и приклеим к нему хвостовое оперение\n",
              "4         1            Будучи одна в квартире (её гражданский муж, врач ?скорой помощи?, как раз дежурил), она открыла дверь ? вероятно, кому-то, кого знала, ? и этот знакомый первым делом прямо в прихожей острым лезвием (скорее всего, медицинским скальпелем) перерезал ей горло"
            ]
          },
          "metadata": {
            "tags": []
          },
          "execution_count": 6
        }
      ]
    },
    {
      "cell_type": "markdown",
      "metadata": {
        "id": "Y3q9Kcx24vqH"
      },
      "source": [
        "Текущая версия pymystem3 не работает в колабе, поэтому версию надо понизить"
      ]
    },
    {
      "cell_type": "code",
      "metadata": {
        "colab": {
          "base_uri": "https://localhost:8080/",
          "height": 310
        },
        "id": "xNQPn1Znqx17",
        "outputId": "96dc72b7-cdfa-475c-894c-d6bb4bb96857"
      },
      "source": [
        "!pip install pymystem3==0.1.10"
      ],
      "execution_count": 2,
      "outputs": [
        {
          "output_type": "stream",
          "text": [
            "Collecting pymystem3==0.1.10\n",
            "  Downloading https://files.pythonhosted.org/packages/51/56/57e550b53587719e92330a79c7c0f555402d953b00700efae6d5ca53cdef/pymystem3-0.1.10-py3-none-any.whl\n",
            "Requirement already satisfied: requests in /usr/local/lib/python3.6/dist-packages (from pymystem3==0.1.10) (2.23.0)\n",
            "Requirement already satisfied: certifi>=2017.4.17 in /usr/local/lib/python3.6/dist-packages (from requests->pymystem3==0.1.10) (2020.12.5)\n",
            "Requirement already satisfied: chardet<4,>=3.0.2 in /usr/local/lib/python3.6/dist-packages (from requests->pymystem3==0.1.10) (3.0.4)\n",
            "Requirement already satisfied: idna<3,>=2.5 in /usr/local/lib/python3.6/dist-packages (from requests->pymystem3==0.1.10) (2.10)\n",
            "Requirement already satisfied: urllib3!=1.25.0,!=1.25.1,<1.26,>=1.21.1 in /usr/local/lib/python3.6/dist-packages (from requests->pymystem3==0.1.10) (1.24.3)\n",
            "Installing collected packages: pymystem3\n",
            "  Found existing installation: pymystem3 0.2.0\n",
            "    Uninstalling pymystem3-0.2.0:\n",
            "      Successfully uninstalled pymystem3-0.2.0\n",
            "Successfully installed pymystem3-0.1.10\n"
          ],
          "name": "stdout"
        },
        {
          "output_type": "display_data",
          "data": {
            "application/vnd.colab-display-data+json": {
              "pip_warning": {
                "packages": [
                  "pymystem3"
                ]
              }
            }
          },
          "metadata": {
            "tags": []
          }
        }
      ]
    },
    {
      "cell_type": "code",
      "metadata": {
        "colab": {
          "base_uri": "https://localhost:8080/",
          "height": 34
        },
        "id": "m1aLuqSptiK4",
        "outputId": "9dc70f6d-c982-4183-8e80-e00fc75bc8db"
      },
      "source": [
        "import pymystem3\r\n",
        "\r\n",
        "pymystem3.__version__"
      ],
      "execution_count": 1,
      "outputs": [
        {
          "output_type": "execute_result",
          "data": {
            "application/vnd.google.colaboratory.intrinsic+json": {
              "type": "string"
            },
            "text/plain": [
              "'0.1.10'"
            ]
          },
          "metadata": {
            "tags": []
          },
          "execution_count": 1
        }
      ]
    },
    {
      "cell_type": "markdown",
      "metadata": {
        "id": "SxzhHL_u47hr"
      },
      "source": [
        "Предобработаем тексты:"
      ]
    },
    {
      "cell_type": "code",
      "metadata": {
        "id": "9aRZYkTSiruE"
      },
      "source": [
        "from nltk.tokenize import RegexpTokenizer\r\n",
        "from pymystem3 import Mystem\r\n",
        "\r\n",
        "token = RegexpTokenizer('\\w+')\r\n",
        "mystem = Mystem()\r\n",
        "\r\n",
        "def tokenize(text):\r\n",
        "    return token.tokenize(text)\r\n",
        "\r\n",
        "def lemmatize(text):\r\n",
        "    return ''.join([w.lower() for w in mystem.lemmatize(' '.join(tokenize(text)))])"
      ],
      "execution_count": 40,
      "outputs": []
    },
    {
      "cell_type": "code",
      "metadata": {
        "colab": {
          "base_uri": "https://localhost:8080/",
          "height": 358
        },
        "id": "p391JLj0jlSc",
        "outputId": "4f1c02d3-1d16-4462-f51c-062a88ff8844"
      },
      "source": [
        "data['леммы'] = data['пример'].apply(lemmatize)\r\n",
        "\r\n",
        "data.head()"
      ],
      "execution_count": 15,
      "outputs": [
        {
          "output_type": "execute_result",
          "data": {
            "text/html": [
              "<div>\n",
              "<style scoped>\n",
              "    .dataframe tbody tr th:only-of-type {\n",
              "        vertical-align: middle;\n",
              "    }\n",
              "\n",
              "    .dataframe tbody tr th {\n",
              "        vertical-align: top;\n",
              "    }\n",
              "\n",
              "    .dataframe thead th {\n",
              "        text-align: right;\n",
              "    }\n",
              "</style>\n",
              "<table border=\"1\" class=\"dataframe\">\n",
              "  <thead>\n",
              "    <tr style=\"text-align: right;\">\n",
              "      <th></th>\n",
              "      <th>значение</th>\n",
              "      <th>пример</th>\n",
              "      <th>леммы</th>\n",
              "    </tr>\n",
              "  </thead>\n",
              "  <tbody>\n",
              "    <tr>\n",
              "      <th>0</th>\n",
              "      <td>1</td>\n",
              "      <td>Если в каком-то месте вам попадается тонкая берёста, её надо резать медленно, очень острым лезвием, которое следует постоянно оправлять (подтачивать) на ремне из кожи, предварительно покрывая его алмазной пастой или пастой Гоя (так парикмахеры раньше точили бритвы)</td>\n",
              "      <td>если в какой то место вы попадаться тонкий береста она надо резать медленно очень острый лезвие который следовать постоянно оправлять подтачивать на ремень из кожа предварительно покрывать его алмазный паста или паста гоя так парикмахер рано точить бритва\\n</td>\n",
              "    </tr>\n",
              "    <tr>\n",
              "      <th>1</th>\n",
              "      <td>1</td>\n",
              "      <td>Я чувствовал, как острые лезвия слегка надавливают на виски, и под их напором лопается моя несчастная тонкая кожа</td>\n",
              "      <td>я чувствовать как острый лезвие слегка надавливать на виски и под их напор лопаться мой несчастный тонкий кожа\\n</td>\n",
              "    </tr>\n",
              "    <tr>\n",
              "      <th>2</th>\n",
              "      <td>1</td>\n",
              "      <td>Гуцульский топор с узким острым лезвием на длинной, необычайно удобной рукоятке, буковая колода рассыпалась как будто сама, почти без усилия, не было сучков, тесных мест (надо вспомнить слово), в которых увязал топор.</td>\n",
              "      <td>гуцульский топор с узкий острый лезвие на длинный необычайно удобный рукоятка буковый колода рассыпаться как будто сам почти без усилие не быть сучок тесный место надо вспомнить слово в который увязывать топор\\n</td>\n",
              "    </tr>\n",
              "    <tr>\n",
              "      <th>3</th>\n",
              "      <td>1</td>\n",
              "      <td>Острым ножом или лезвием безопасной бритвы заточим, как показано на рисунке, кончик спички и приклеим к нему хвостовое оперение</td>\n",
              "      <td>острый нож или лезвие безопасный бритва заточить как показывать на рисунок кончик спичка и приклеивать к он хвостовой оперение\\n</td>\n",
              "    </tr>\n",
              "    <tr>\n",
              "      <th>4</th>\n",
              "      <td>1</td>\n",
              "      <td>Будучи одна в квартире (её гражданский муж, врач ?скорой помощи?, как раз дежурил), она открыла дверь ? вероятно, кому-то, кого знала, ? и этот знакомый первым делом прямо в прихожей острым лезвием (скорее всего, медицинским скальпелем) перерезал ей горло</td>\n",
              "      <td>быть один в квартира ее гражданский муж врач скорый помощь как раз дежурить она открывать дверь вероятно кто то кто знать и этот знакомый первый дело прямо в прихожая острый лезвие скоро все медицинский скальпель перерезывать она горло\\n</td>\n",
              "    </tr>\n",
              "  </tbody>\n",
              "</table>\n",
              "</div>"
            ],
            "text/plain": [
              "   значение  ...                                                                                                                                                                                                                                                              леммы\n",
              "0         1  ...  если в какой то место вы попадаться тонкий береста она надо резать медленно очень острый лезвие который следовать постоянно оправлять подтачивать на ремень из кожа предварительно покрывать его алмазный паста или паста гоя так парикмахер рано точить бритва\\n\n",
              "1         1  ...                                                                                                                                                   я чувствовать как острый лезвие слегка надавливать на виски и под их напор лопаться мой несчастный тонкий кожа\\n\n",
              "2         1  ...                                                гуцульский топор с узкий острый лезвие на длинный необычайно удобный рукоятка буковый колода рассыпаться как будто сам почти без усилие не быть сучок тесный место надо вспомнить слово в который увязывать топор\\n\n",
              "3         1  ...                                                                                                                                   острый нож или лезвие безопасный бритва заточить как показывать на рисунок кончик спичка и приклеивать к он хвостовой оперение\\n\n",
              "4         1  ...                      быть один в квартира ее гражданский муж врач скорый помощь как раз дежурить она открывать дверь вероятно кто то кто знать и этот знакомый первый дело прямо в прихожая острый лезвие скоро все медицинский скальпель перерезывать она горло\\n\n",
              "\n",
              "[5 rows x 3 columns]"
            ]
          },
          "metadata": {
            "tags": []
          },
          "execution_count": 15
        }
      ]
    },
    {
      "cell_type": "markdown",
      "metadata": {
        "id": "nLyYIipZkvmv"
      },
      "source": [
        "## Adagram"
      ]
    },
    {
      "cell_type": "code",
      "metadata": {
        "colab": {
          "base_uri": "https://localhost:8080/"
        },
        "id": "FER8g8QxviCv",
        "outputId": "7b9daa07-a316-4e18-87bf-45ffcf058e81"
      },
      "source": [
        "!curl \"https://s3.amazonaws.com/kostia.lopuhin/all.a010.p10.d300.w5.m100.nonorm.slim.joblib\" > all.a010.p10.d300.w5.m100.nonorm.slim.joblib"
      ],
      "execution_count": 16,
      "outputs": [
        {
          "output_type": "stream",
          "text": [
            "  % Total    % Received % Xferd  Average Speed   Time    Time     Time  Current\n",
            "                                 Dload  Upload   Total   Spent    Left  Speed\n",
            "100 1394M  100 1394M    0     0  63.9M      0  0:00:21  0:00:21 --:--:-- 60.5M\n"
          ],
          "name": "stdout"
        }
      ]
    },
    {
      "cell_type": "code",
      "metadata": {
        "colab": {
          "base_uri": "https://localhost:8080/"
        },
        "id": "uMdBmt1Zv5VO",
        "outputId": "d462c84f-91d5-4d23-d0db-715c30e814e9"
      },
      "source": [
        "!pip install git+https://github.com/lopuhin/python-adagram.git"
      ],
      "execution_count": 21,
      "outputs": [
        {
          "output_type": "stream",
          "text": [
            "Collecting git+https://github.com/lopuhin/python-adagram.git\n",
            "  Cloning https://github.com/lopuhin/python-adagram.git to /tmp/pip-req-build-qb746oos\n",
            "  Running command git clone -q https://github.com/lopuhin/python-adagram.git /tmp/pip-req-build-qb746oos\n",
            "Requirement already satisfied: cython in /usr/local/lib/python3.6/dist-packages (from adagram==0.0.1) (0.29.21)\n",
            "Requirement already satisfied: joblib in /usr/local/lib/python3.6/dist-packages (from adagram==0.0.1) (1.0.0)\n",
            "Requirement already satisfied: numpy>=1.9 in /usr/local/lib/python3.6/dist-packages (from adagram==0.0.1) (1.19.4)\n",
            "Requirement already satisfied: six in /usr/local/lib/python3.6/dist-packages (from adagram==0.0.1) (1.15.0)\n",
            "Building wheels for collected packages: adagram\n",
            "  Building wheel for adagram (setup.py) ... \u001b[?25l\u001b[?25hdone\n",
            "  Created wheel for adagram: filename=adagram-0.0.1-cp36-cp36m-linux_x86_64.whl size=450034 sha256=150ab2da3c4ec3d9058e324fec119cacd4300cd1aec6233bd099fd0fa7f3f195\n",
            "  Stored in directory: /tmp/pip-ephem-wheel-cache-sccm4504/wheels/11/0f/46/f5df96670df8f7973b4c2311ffc9b02e435a7bd3207f992c4d\n",
            "Successfully built adagram\n",
            "Installing collected packages: adagram\n",
            "Successfully installed adagram-0.0.1\n"
          ],
          "name": "stdout"
        }
      ]
    },
    {
      "cell_type": "code",
      "metadata": {
        "id": "livXQhbJvjf4"
      },
      "source": [
        "import adagram\r\n",
        "\r\n",
        "vm = adagram.VectorModel.load('all.a010.p10.d300.w5.m100.nonorm.slim.joblib')"
      ],
      "execution_count": 22,
      "outputs": []
    },
    {
      "cell_type": "markdown",
      "metadata": {
        "id": "m9-6L-AA5BiX"
      },
      "source": [
        "Для каждой пары (слово, список лемм) запишем в отдельный столбик индекс значения, которое вычислил adagram"
      ]
    },
    {
      "cell_type": "code",
      "metadata": {
        "colab": {
          "base_uri": "https://localhost:8080/"
        },
        "id": "fHVaJQSwvoJm",
        "outputId": "59577cbe-d395-499a-a8c3-904ce28d145b"
      },
      "source": [
        "def disambiguate(model, word, context):\r\n",
        "    probs = model.disambiguate(word, context)\r\n",
        "    return 1 + probs.argmax()\r\n",
        "\r\n",
        "\r\n",
        "word = 'острый'\r\n",
        "data['предсказанное значение'] = [disambiguate(vm, word, context) for context in data['леммы']]"
      ],
      "execution_count": 29,
      "outputs": [
        {
          "output_type": "stream",
          "text": [
            "/usr/local/lib/python3.6/dist-packages/adagram/model.py:171: RuntimeWarning: divide by zero encountered in log\n",
            "  z = np.log(z)\n"
          ],
          "name": "stderr"
        }
      ]
    },
    {
      "cell_type": "markdown",
      "metadata": {
        "id": "Mi87vx0q5JMo"
      },
      "source": [
        "Он сумел выделить только два значения:"
      ]
    },
    {
      "cell_type": "code",
      "metadata": {
        "colab": {
          "base_uri": "https://localhost:8080/"
        },
        "id": "o6nrYHNeyCJZ",
        "outputId": "e13b499d-fc38-4462-dac3-0494820e84ae"
      },
      "source": [
        "data['предсказанное значение'].value_counts()"
      ],
      "execution_count": 32,
      "outputs": [
        {
          "output_type": "execute_result",
          "data": {
            "text/plain": [
              "2    37\n",
              "1    24\n",
              "Name: предсказанное значение, dtype: int64"
            ]
          },
          "metadata": {
            "tags": []
          },
          "execution_count": 32
        }
      ]
    },
    {
      "cell_type": "markdown",
      "metadata": {
        "id": "z8dr4Epg5NMZ"
      },
      "source": [
        "Посмотрим на accuracy"
      ]
    },
    {
      "cell_type": "code",
      "metadata": {
        "colab": {
          "base_uri": "https://localhost:8080/"
        },
        "id": "WdsKnlqPxbc2",
        "outputId": "18157d3e-906d-4714-f1cf-704e14919da7"
      },
      "source": [
        "from sklearn.metrics import accuracy_score\r\n",
        "\r\n",
        "accuracy_score(data['значение'], data['предсказанное значение'])"
      ],
      "execution_count": 30,
      "outputs": [
        {
          "output_type": "execute_result",
          "data": {
            "text/plain": [
              "0.32786885245901637"
            ]
          },
          "metadata": {
            "tags": []
          },
          "execution_count": 30
        }
      ]
    },
    {
      "cell_type": "markdown",
      "metadata": {
        "id": "R1Zw0mwu5Po4"
      },
      "source": [
        "Достаточно маленькое. Можно посмотреть на примеры, где алгоритм справился хорошо:"
      ]
    },
    {
      "cell_type": "code",
      "metadata": {
        "colab": {
          "base_uri": "https://localhost:8080/",
          "height": 1000
        },
        "id": "om5ULzO_xrxG",
        "outputId": "03d9d2d6-ae76-4f7f-9215-b055c0e33dda"
      },
      "source": [
        "data[data['значение']==data['предсказанное значение']]"
      ],
      "execution_count": 33,
      "outputs": [
        {
          "output_type": "execute_result",
          "data": {
            "text/html": [
              "<div>\n",
              "<style scoped>\n",
              "    .dataframe tbody tr th:only-of-type {\n",
              "        vertical-align: middle;\n",
              "    }\n",
              "\n",
              "    .dataframe tbody tr th {\n",
              "        vertical-align: top;\n",
              "    }\n",
              "\n",
              "    .dataframe thead th {\n",
              "        text-align: right;\n",
              "    }\n",
              "</style>\n",
              "<table border=\"1\" class=\"dataframe\">\n",
              "  <thead>\n",
              "    <tr style=\"text-align: right;\">\n",
              "      <th></th>\n",
              "      <th>значение</th>\n",
              "      <th>пример</th>\n",
              "      <th>леммы</th>\n",
              "      <th>предсказанное значение</th>\n",
              "    </tr>\n",
              "  </thead>\n",
              "  <tbody>\n",
              "    <tr>\n",
              "      <th>0</th>\n",
              "      <td>1</td>\n",
              "      <td>Если в каком-то месте вам попадается тонкая берёста, её надо резать медленно, очень острым лезвием, которое следует постоянно оправлять (подтачивать) на ремне из кожи, предварительно покрывая его алмазной пастой или пастой Гоя (так парикмахеры раньше точили бритвы)</td>\n",
              "      <td>если в какой то место вы попадаться тонкий береста она надо резать медленно очень острый лезвие который следовать постоянно оправлять подтачивать на ремень из кожа предварительно покрывать его алмазный паста или паста гоя так парикмахер рано точить бритва\\n</td>\n",
              "      <td>1</td>\n",
              "    </tr>\n",
              "    <tr>\n",
              "      <th>1</th>\n",
              "      <td>1</td>\n",
              "      <td>Я чувствовал, как острые лезвия слегка надавливают на виски, и под их напором лопается моя несчастная тонкая кожа</td>\n",
              "      <td>я чувствовать как острый лезвие слегка надавливать на виски и под их напор лопаться мой несчастный тонкий кожа\\n</td>\n",
              "      <td>1</td>\n",
              "    </tr>\n",
              "    <tr>\n",
              "      <th>3</th>\n",
              "      <td>1</td>\n",
              "      <td>Острым ножом или лезвием безопасной бритвы заточим, как показано на рисунке, кончик спички и приклеим к нему хвостовое оперение</td>\n",
              "      <td>острый нож или лезвие безопасный бритва заточить как показывать на рисунок кончик спичка и приклеивать к он хвостовой оперение\\n</td>\n",
              "      <td>1</td>\n",
              "    </tr>\n",
              "    <tr>\n",
              "      <th>9</th>\n",
              "      <td>1</td>\n",
              "      <td>Можно удалить надпись механически острой бритвой, если толщина бумаги позволяет</td>\n",
              "      <td>можно удалять надпись механически острый бритва если толщина бумага позволять\\n</td>\n",
              "      <td>1</td>\n",
              "    </tr>\n",
              "    <tr>\n",
              "      <th>12</th>\n",
              "      <td>1</td>\n",
              "      <td>Для разреза пользуйтесь монтажным ножом или острыми ножницами</td>\n",
              "      <td>для разрез пользоваться монтажный нож или острый ножницы\\n</td>\n",
              "      <td>1</td>\n",
              "    </tr>\n",
              "    <tr>\n",
              "      <th>13</th>\n",
              "      <td>1</td>\n",
              "      <td>Карл острыми, блестящими, кривыми ножницами обрезал мне ногти, а я трясла в воздухе руками и смеялась</td>\n",
              "      <td>карл острый блестящий кривой ножницы обрезать я ноготь а я трясти в воздух рука и смеяться\\n</td>\n",
              "      <td>1</td>\n",
              "    </tr>\n",
              "    <tr>\n",
              "      <th>15</th>\n",
              "      <td>1</td>\n",
              "      <td>Он упал с лошади, ударился об острый край котла, валявшегося на земле, и через несколько часов умер.</td>\n",
              "      <td>он упасть с лошадь ударяться об острый край котел валяться на земля и через несколько час умирать\\n</td>\n",
              "      <td>1</td>\n",
              "    </tr>\n",
              "    <tr>\n",
              "      <th>16</th>\n",
              "      <td>1</td>\n",
              "      <td>Но не заметил острого края сломанной кровати и зацепился за него своими бинтами.</td>\n",
              "      <td>но не замечать острый край сломать кровать и зацепляться за он свой бинт\\n</td>\n",
              "      <td>1</td>\n",
              "    </tr>\n",
              "    <tr>\n",
              "      <th>19</th>\n",
              "      <td>1</td>\n",
              "      <td>Это можно делать не только пальцем, но и рукоятью ножа, углом магазина от автомата, ребром монеты и любым предметом с острым краем.</td>\n",
              "      <td>это можно делать не только палец но и рукоять нож угол магазин от автомат ребро монета и любой предмет с острый край\\n</td>\n",
              "      <td>1</td>\n",
              "    </tr>\n",
              "    <tr>\n",
              "      <th>20</th>\n",
              "      <td>2</td>\n",
              "      <td>Сначала для приготовления куриных крылышек под острым соусом надо приготовить маринад.</td>\n",
              "      <td>сначала для приготовление куриный крылышко под острый соус надо приготавливать маринад\\n</td>\n",
              "      <td>2</td>\n",
              "    </tr>\n",
              "    <tr>\n",
              "      <th>21</th>\n",
              "      <td>2</td>\n",
              "      <td>Русские блюда, язвительно писал один из руководителей Коминтерна Карл Радек, подаются в европейских ресторанах без острого соуса настоящей московской кухни.</td>\n",
              "      <td>русский блюдо язвительный писать один из руководитель коминтерн карл радек подаваться в европейский ресторан без острый соус настоящий московский кухня\\n</td>\n",
              "      <td>2</td>\n",
              "    </tr>\n",
              "    <tr>\n",
              "      <th>23</th>\n",
              "      <td>2</td>\n",
              "      <td>Мероприятие было ангажированным, под острый соус и великолепные отбивные нарождающаяся партия с импровизированной трибуны хотела запустить бациллу политики в светлые умы.</td>\n",
              "      <td>мероприятие быть ангажированный под острый соус и великолепный отбивной нарождаться партия с импровизированный трибуна хотеть запускать бацилла политика в светлый ум\\n</td>\n",
              "      <td>2</td>\n",
              "    </tr>\n",
              "    <tr>\n",
              "      <th>26</th>\n",
              "      <td>2</td>\n",
              "      <td>Сушёные листья розмарина придают пище изысканный аромат, напоминающий запах сосны, и пряный, слегка острый вкус.</td>\n",
              "      <td>сушеный лист розмарин придавать пища изысканный аромат напоминать запах сосна и пряный слегка острый вкус\\n</td>\n",
              "      <td>2</td>\n",
              "    </tr>\n",
              "    <tr>\n",
              "      <th>27</th>\n",
              "      <td>2</td>\n",
              "      <td>Но, как убеждены жители Данилова, местный красный лук ? лидер среди всех луков не только по гармоничному сладко-острому вкусу, но и по своим целебным свойствам.</td>\n",
              "      <td>но как убеждать житель данилова местный красный лук лидер среди весь лук не только по гармоничный сладко острый вкус но и по свой целебный свойство\\n</td>\n",
              "      <td>2</td>\n",
              "    </tr>\n",
              "    <tr>\n",
              "      <th>30</th>\n",
              "      <td>2</td>\n",
              "      <td>Туда отправляем мелко нарезанными репчатый лук, копченый бекон или сырое жирное мясо, имбирь, сладкий перец, острый перец, всяческие приправы.</td>\n",
              "      <td>туда отправлять мелко нарезать репчатый лук копченый бекон или сырой жирный мясо имбирь сладкий перец острый перец всяческий приправа\\n</td>\n",
              "      <td>2</td>\n",
              "    </tr>\n",
              "    <tr>\n",
              "      <th>31</th>\n",
              "      <td>2</td>\n",
              "      <td>Перед внутренним взором вставали то заискивающая улыбка Панкевича, то огромный паром, на палубах которого толпились тысячи темных, крикливых людей и висел остро пахнущий перцем пар.</td>\n",
              "      <td>перед внутренний взор вставать то заискивающий улыбка панкевич то огромный пар на палуба который толпиться тысяча темный крикливый человек и висеть остро пахнуть перец пара\\n</td>\n",
              "      <td>2</td>\n",
              "    </tr>\n",
              "    <tr>\n",
              "      <th>32</th>\n",
              "      <td>2</td>\n",
              "      <td>Примером может служить смесь для маринования огурцов, помидоров и грибов, которая содержит: по 1 части гвоздики, белого или чёрного перца, душистого перца, семян кориандра, белой горчицы, а также 1-2 стручка острого сушёного красного перца и 3 лавровых листа.</td>\n",
              "      <td>пример мочь служить смесь для маринование огурец помидор и гриб который содержать по 1 часть гвоздика белый или черный перец душистый перец семя кориандр белый горчица а также 1 2 стручок острый сушеный красный перец и 3 лавровый лист\\n</td>\n",
              "      <td>2</td>\n",
              "    </tr>\n",
              "    <tr>\n",
              "      <th>34</th>\n",
              "      <td>2</td>\n",
              "      <td>Этим же рассолом капусту промывают и перекладывают в менее концентрированный, добавляя острый красный перец, редис, много чеснока и имбирь.</td>\n",
              "      <td>этот же рассол капуста промывать и перелагать в менее концентрированный добавлять острый красный перец редис много чеснок и имбирь\\n</td>\n",
              "      <td>2</td>\n",
              "    </tr>\n",
              "    <tr>\n",
              "      <th>35</th>\n",
              "      <td>2</td>\n",
              "      <td>В шесть часов дежурные подают скромный завтрак: рис, варёные овощи и кимчи (традиционное острое блюдо из овощей).</td>\n",
              "      <td>в шесть час дежурный подавать скромный завтрак рис вареный овощ и кимчать традиционный острый блюдо из овощ\\n</td>\n",
              "      <td>2</td>\n",
              "    </tr>\n",
              "    <tr>\n",
              "      <th>37</th>\n",
              "      <td>2</td>\n",
              "      <td>Что касается антиизжоговой диеты, она не рекомендует совмещать фрукты и овощи, крахмалистые и жирные продукты; предписывает избегать твердой пищи, цитрусовых, томатов, острых и жареных блюд</td>\n",
              "      <td>что касаться антиизжоговый диета она не рекомендовать совмещать фрукт и овощ крахмалистый и жирный продукт предписывать избегать твердый пища цитрусовый томат острый и жареный блюдо\\n</td>\n",
              "      <td>2</td>\n",
              "    </tr>\n",
              "  </tbody>\n",
              "</table>\n",
              "</div>"
            ],
            "text/plain": [
              "    значение  ... предсказанное значение\n",
              "0          1  ...                      1\n",
              "1          1  ...                      1\n",
              "3          1  ...                      1\n",
              "9          1  ...                      1\n",
              "12         1  ...                      1\n",
              "13         1  ...                      1\n",
              "15         1  ...                      1\n",
              "16         1  ...                      1\n",
              "19         1  ...                      1\n",
              "20         2  ...                      2\n",
              "21         2  ...                      2\n",
              "23         2  ...                      2\n",
              "26         2  ...                      2\n",
              "27         2  ...                      2\n",
              "30         2  ...                      2\n",
              "31         2  ...                      2\n",
              "32         2  ...                      2\n",
              "34         2  ...                      2\n",
              "35         2  ...                      2\n",
              "37         2  ...                      2\n",
              "\n",
              "[20 rows x 4 columns]"
            ]
          },
          "metadata": {
            "tags": []
          },
          "execution_count": 33
        }
      ]
    },
    {
      "cell_type": "markdown",
      "metadata": {
        "id": "tsmAtRYu5Vjz"
      },
      "source": [
        "Заметно, что adagram хорошо отделил примеры про еду со вторым значением слова *острый* (19-20 строка). Но в эту же категорию почему-то попали и примеры с третьим значением слова. \r\n",
        "\r\n",
        "Можно обосновать это слишком маленьким размера корпуса, а также не слишком яркой и особенной лексикой в примерах с третьим значением. Потому что там достаточно сложно было выделить общий компонент, по сравнению с очевидными первыми двумя значениями (острый - нож, острый - перец)"
      ]
    },
    {
      "cell_type": "code",
      "metadata": {
        "colab": {
          "base_uri": "https://localhost:8080/"
        },
        "id": "u9mxq65DySEz",
        "outputId": "0fd3a3cf-d4f4-45ce-b56c-613f132e83cd"
      },
      "source": [
        "disambiguate(vm, word, lemmatize('Имеющий хорошо колющий конец или хорошо режущий край; противоположно тупой.'))"
      ],
      "execution_count": 41,
      "outputs": [
        {
          "output_type": "stream",
          "text": [
            "/usr/local/lib/python3.6/dist-packages/adagram/model.py:171: RuntimeWarning: divide by zero encountered in log\n",
            "  z = np.log(z)\n"
          ],
          "name": "stderr"
        },
        {
          "output_type": "execute_result",
          "data": {
            "text/plain": [
              "2"
            ]
          },
          "metadata": {
            "tags": []
          },
          "execution_count": 41
        }
      ]
    },
    {
      "cell_type": "code",
      "metadata": {
        "colab": {
          "base_uri": "https://localhost:8080/"
        },
        "id": "-O_GtG2vykNV",
        "outputId": "6c546a28-f998-4f88-8194-a05ef774d329"
      },
      "source": [
        "disambiguate(vm, word, lemmatize('С большим количеством соли, пряностей, специй (о пище). Острые блюда. Острый сыр. || \\ Едкий, пряный (о приправах). Острый перец. Острая горчица.'))\r\n"
      ],
      "execution_count": 44,
      "outputs": [
        {
          "output_type": "stream",
          "text": [
            "/usr/local/lib/python3.6/dist-packages/adagram/model.py:171: RuntimeWarning: divide by zero encountered in log\n",
            "  z = np.log(z)\n"
          ],
          "name": "stderr"
        },
        {
          "output_type": "execute_result",
          "data": {
            "text/plain": [
              "2"
            ]
          },
          "metadata": {
            "tags": []
          },
          "execution_count": 44
        }
      ]
    },
    {
      "cell_type": "code",
      "metadata": {
        "colab": {
          "base_uri": "https://localhost:8080/"
        },
        "id": "lKbJYDa7zAoc",
        "outputId": "cca5bdcb-2e5d-4a2f-efb4-c4b28c6bb147"
      },
      "source": [
        "disambiguate(vm, word, lemmatize('Остроумный, язвительный.'))"
      ],
      "execution_count": 45,
      "outputs": [
        {
          "output_type": "stream",
          "text": [
            "/usr/local/lib/python3.6/dist-packages/adagram/model.py:171: RuntimeWarning: divide by zero encountered in log\n",
            "  z = np.log(z)\n"
          ],
          "name": "stderr"
        },
        {
          "output_type": "execute_result",
          "data": {
            "text/plain": [
              "2"
            ]
          },
          "metadata": {
            "tags": []
          },
          "execution_count": 45
        }
      ]
    },
    {
      "cell_type": "markdown",
      "metadata": {
        "id": "XV6HdqE65-Hu"
      },
      "source": [
        "У алгоритма явно склонность присваивать класс 2. Возможно, он обращал внимание не на лексику \"продуктов\", как предполагалось, а на что-то другое"
      ]
    },
    {
      "cell_type": "markdown",
      "metadata": {
        "id": "uvaJ_ycZ4aft"
      },
      "source": [
        "## ELMo"
      ]
    },
    {
      "cell_type": "code",
      "metadata": {
        "colab": {
          "base_uri": "https://localhost:8080/"
        },
        "id": "jO65VVuF0TcB",
        "outputId": "6418b74a-4aba-4de2-deda-b746822c8122"
      },
      "source": [
        "!pip install simple-elmo"
      ],
      "execution_count": 46,
      "outputs": [
        {
          "output_type": "stream",
          "text": [
            "Collecting simple-elmo\n",
            "  Downloading https://files.pythonhosted.org/packages/76/20/41f8a3a194786c1dd815e07a071eadb709a9ea7420163ec828829dd863ea/simple_elmo-0.6.0-py3-none-any.whl\n",
            "Requirement already satisfied: pandas in /usr/local/lib/python3.6/dist-packages (from simple-elmo) (1.1.5)\n",
            "Requirement already satisfied: numpy in /usr/local/lib/python3.6/dist-packages (from simple-elmo) (1.19.4)\n",
            "Requirement already satisfied: smart-open>1.8.1 in /usr/local/lib/python3.6/dist-packages (from simple-elmo) (4.0.1)\n",
            "Requirement already satisfied: h5py in /usr/local/lib/python3.6/dist-packages (from simple-elmo) (2.10.0)\n",
            "Requirement already satisfied: python-dateutil>=2.7.3 in /usr/local/lib/python3.6/dist-packages (from pandas->simple-elmo) (2.8.1)\n",
            "Requirement already satisfied: pytz>=2017.2 in /usr/local/lib/python3.6/dist-packages (from pandas->simple-elmo) (2018.9)\n",
            "Requirement already satisfied: six in /usr/local/lib/python3.6/dist-packages (from h5py->simple-elmo) (1.15.0)\n",
            "Installing collected packages: simple-elmo\n",
            "Successfully installed simple-elmo-0.6.0\n"
          ],
          "name": "stdout"
        }
      ]
    },
    {
      "cell_type": "code",
      "metadata": {
        "colab": {
          "base_uri": "https://localhost:8080/"
        },
        "id": "Gdmpj1cO0fST",
        "outputId": "632d30cf-f91e-4471-b95a-da23b9b373b2"
      },
      "source": [
        "!wget http://vectors.nlpl.eu/repository/20/196.zip\r\n",
        "!unzip 196.zip"
      ],
      "execution_count": 49,
      "outputs": [
        {
          "output_type": "stream",
          "text": [
            "--2020-12-26 06:52:23--  http://vectors.nlpl.eu/repository/20/196.zip\n",
            "Resolving vectors.nlpl.eu (vectors.nlpl.eu)... 129.240.189.225\n",
            "Connecting to vectors.nlpl.eu (vectors.nlpl.eu)|129.240.189.225|:80... connected.\n",
            "HTTP request sent, awaiting response... 200 OK\n",
            "Length: 206986351 (197M) [application/zip]\n",
            "Saving to: ‘196.zip’\n",
            "\n",
            "196.zip             100%[===================>] 197.40M  23.1MB/s    in 14s     \n",
            "\n",
            "2020-12-26 06:52:38 (13.9 MB/s) - ‘196.zip’ saved [206986351/206986351]\n",
            "\n",
            "Archive:  196.zip\n",
            "  inflating: meta.json               \n",
            "  inflating: model.hdf5              \n",
            "  inflating: options.json            \n",
            "  inflating: README                  \n",
            "  inflating: vocab.txt               \n"
          ],
          "name": "stdout"
        }
      ]
    },
    {
      "cell_type": "code",
      "metadata": {
        "colab": {
          "base_uri": "https://localhost:8080/",
          "height": 366
        },
        "id": "GJ5NsUva0aMr",
        "outputId": "c8cb4d54-796d-4377-8654-342412463c5a"
      },
      "source": [
        "from simple_elmo import ElmoModel\r\n",
        "\r\n",
        "model = ElmoModel()\r\n",
        "model.load(\".\")"
      ],
      "execution_count": 56,
      "outputs": [
        {
          "output_type": "stream",
          "text": [
            "2020-12-26 06:56:45,908 : INFO : Loading model from ....\n",
            "2020-12-26 06:56:45,913 : INFO : We will cache the vocabulary of 100 tokens.\n"
          ],
          "name": "stderr"
        },
        {
          "output_type": "stream",
          "text": [
            "WARNING:tensorflow:From /usr/local/lib/python3.6/dist-packages/simple_elmo/model.py:575: dynamic_rnn (from tensorflow.python.ops.rnn) is deprecated and will be removed in a future version.\n",
            "Instructions for updating:\n",
            "Please use `keras.layers.RNN(cell)`, which is equivalent to this API\n"
          ],
          "name": "stdout"
        },
        {
          "output_type": "stream",
          "text": [
            "/usr/local/lib/python3.6/dist-packages/tensorflow/python/keras/layers/legacy_rnn/rnn_cell_impl.py:903: UserWarning: `tf.nn.rnn_cell.LSTMCell` is deprecated and will be removed in a future version. This class is equivalent as `tf.keras.layers.LSTMCell`, and will be replaced by that in Tensorflow 2.0.\n",
            "  warnings.warn(\"`tf.nn.rnn_cell.LSTMCell` is deprecated and will be \"\n",
            "2020-12-26 06:56:46,445 : WARNING : From /usr/local/lib/python3.6/dist-packages/simple_elmo/model.py:575: dynamic_rnn (from tensorflow.python.ops.rnn) is deprecated and will be removed in a future version.\n",
            "Instructions for updating:\n",
            "Please use `keras.layers.RNN(cell)`, which is equivalent to this API\n",
            "/usr/local/lib/python3.6/dist-packages/tensorflow/python/keras/engine/base_layer_v1.py:1727: UserWarning: `layer.add_variable` is deprecated and will be removed in a future version. Please use `layer.add_weight` method instead.\n",
            "  warnings.warn('`layer.add_variable` is deprecated and '\n"
          ],
          "name": "stderr"
        },
        {
          "output_type": "stream",
          "text": [
            "WARNING:tensorflow:From /usr/local/lib/python3.6/dist-packages/tensorflow/python/keras/layers/legacy_rnn/rnn_cell_impl.py:981: calling Zeros.__init__ (from tensorflow.python.ops.init_ops) with dtype is deprecated and will be removed in a future version.\n",
            "Instructions for updating:\n",
            "Call initializer instance with the dtype argument instead of passing it to the constructor\n"
          ],
          "name": "stdout"
        },
        {
          "output_type": "stream",
          "text": [
            "2020-12-26 06:56:46,675 : WARNING : From /usr/local/lib/python3.6/dist-packages/tensorflow/python/keras/layers/legacy_rnn/rnn_cell_impl.py:981: calling Zeros.__init__ (from tensorflow.python.ops.init_ops) with dtype is deprecated and will be removed in a future version.\n",
            "Instructions for updating:\n",
            "Call initializer instance with the dtype argument instead of passing it to the constructor\n"
          ],
          "name": "stderr"
        },
        {
          "output_type": "execute_result",
          "data": {
            "application/vnd.google.colaboratory.intrinsic+json": {
              "type": "string"
            },
            "text/plain": [
              "'The model is now loaded.'"
            ]
          },
          "metadata": {
            "tags": []
          },
          "execution_count": 56
        }
      ]
    },
    {
      "cell_type": "markdown",
      "metadata": {
        "id": "umBptT8Z6N1Q"
      },
      "source": [
        "Получим векторы для каждого примера"
      ]
    },
    {
      "cell_type": "code",
      "metadata": {
        "id": "fqWvyFpH0p-4"
      },
      "source": [
        "def get_elmo_vectors(word, contexts, model):\r\n",
        "    tokens = [lemmatize(c) for c in contexts]\r\n",
        "    all_vectors = model.get_elmo_vectors(tokens)\r\n",
        "    word_vecs = []\r\n",
        "    for i in range(len(contexts)):\r\n",
        "        try:\r\n",
        "            word_vecs.append(all_vectors[i][tokens[i].index(word)])\r\n",
        "        except ValueError:  # если нормализация накосячила и лемму не найти\r\n",
        "            print('Пропустили пример ', i)\r\n",
        "    return word_vecs"
      ],
      "execution_count": 70,
      "outputs": []
    },
    {
      "cell_type": "code",
      "metadata": {
        "colab": {
          "base_uri": "https://localhost:8080/"
        },
        "id": "O3krKYZz06Fz",
        "outputId": "c6b7669c-8dfd-443d-f744-85e5e92e80db"
      },
      "source": [
        "import numpy as np\r\n",
        "\r\n",
        "X = get_elmo_vectors(word, data['пример'], model)\r\n",
        "X = np.array(X)\r\n",
        "X.shape"
      ],
      "execution_count": 71,
      "outputs": [
        {
          "output_type": "stream",
          "text": [
            "2020-12-26 07:08:35,842 : INFO : Warming up ELMo on 32 sentences...\n",
            "2020-12-26 07:09:00,894 : INFO : Warming up finished.\n",
            "2020-12-26 07:09:00,918 : INFO : Texts in the current batch: 32\n",
            "2020-12-26 07:09:26,000 : INFO : Texts in the current batch: 29\n"
          ],
          "name": "stderr"
        },
        {
          "output_type": "stream",
          "text": [
            "Пропустили пример  31\n",
            "Пропустили пример  51\n"
          ],
          "name": "stdout"
        },
        {
          "output_type": "execute_result",
          "data": {
            "text/plain": [
              "(59, 1024)"
            ]
          },
          "metadata": {
            "tags": []
          },
          "execution_count": 71
        }
      ]
    },
    {
      "cell_type": "code",
      "metadata": {
        "colab": {
          "base_uri": "https://localhost:8080/"
        },
        "id": "BGGBH_5v2Ltl",
        "outputId": "10447625-41f9-4c5a-b8f5-0ec5f8b840cd"
      },
      "source": [
        "from sklearn.cluster import *\r\n",
        "\r\n",
        "\r\n",
        "cluster = AffinityPropagation(damping=0.9)\r\n",
        "cluster.fit(X)\r\n",
        "labels = np.array(cluster.labels_) + 1\r\n",
        "    \r\n",
        "labels"
      ],
      "execution_count": 72,
      "outputs": [
        {
          "output_type": "execute_result",
          "data": {
            "text/plain": [
              "array([2, 3, 5, 1, 2, 3, 5, 3, 2, 3, 3, 4, 3, 3, 2, 2, 3, 3, 5, 4, 3, 6,\n",
              "       6, 3, 2, 6, 4, 2, 3, 2, 6, 2, 4, 2, 6, 3, 6, 2, 6, 2, 4, 5, 3, 4,\n",
              "       5, 5, 4, 6, 5, 6, 3, 3, 6, 3, 7, 3, 6, 5, 3])"
            ]
          },
          "metadata": {
            "tags": []
          },
          "execution_count": 72
        }
      ]
    },
    {
      "cell_type": "markdown",
      "metadata": {
        "id": "-WYwJPud6Zd1"
      },
      "source": [
        "Так как этот метод выделил целых 7 значений слова \"острый\", то не очень рационально будет считать accuracy, потому что индексы того, что я имею в виду, и что имеется в виду в выходе кластеризатора - разное. Также метки получились достаточно хаотичные, попробуем сгруппировать примеры, чтобы посмотреть, что получилось"
      ]
    },
    {
      "cell_type": "code",
      "metadata": {
        "colab": {
          "base_uri": "https://localhost:8080/"
        },
        "id": "AUFPt8DS67M1",
        "outputId": "29aba845-d9f8-40bb-fa24-2c6735b7bff5"
      },
      "source": [
        "data_elmo = data.drop([31,51])\r\n",
        "data_elmo['предсказанные значения2'] = labels\r\n",
        "data_elmo.groupby('предсказанные значения2')['пример'].count()"
      ],
      "execution_count": 74,
      "outputs": [
        {
          "output_type": "execute_result",
          "data": {
            "text/plain": [
              "предсказанные значения2\n",
              "1     1\n",
              "2    12\n",
              "3    19\n",
              "4     7\n",
              "5     8\n",
              "6    11\n",
              "7     1\n",
              "Name: пример, dtype: int64"
            ]
          },
          "metadata": {
            "tags": []
          },
          "execution_count": 74
        }
      ]
    },
    {
      "cell_type": "markdown",
      "metadata": {
        "id": "KtTmepaC8Ck2"
      },
      "source": [
        "Интересно посмотреть на самый многочисленный класс"
      ]
    },
    {
      "cell_type": "code",
      "metadata": {
        "colab": {
          "base_uri": "https://localhost:8080/",
          "height": 1000
        },
        "id": "o5TvuJ4R7v0k",
        "outputId": "a5ad67a4-4443-4469-dd27-61e50d203166"
      },
      "source": [
        "data_elmo[data_elmo['предсказанные значения2']==3]"
      ],
      "execution_count": 78,
      "outputs": [
        {
          "output_type": "execute_result",
          "data": {
            "text/html": [
              "<div>\n",
              "<style scoped>\n",
              "    .dataframe tbody tr th:only-of-type {\n",
              "        vertical-align: middle;\n",
              "    }\n",
              "\n",
              "    .dataframe tbody tr th {\n",
              "        vertical-align: top;\n",
              "    }\n",
              "\n",
              "    .dataframe thead th {\n",
              "        text-align: right;\n",
              "    }\n",
              "</style>\n",
              "<table border=\"1\" class=\"dataframe\">\n",
              "  <thead>\n",
              "    <tr style=\"text-align: right;\">\n",
              "      <th></th>\n",
              "      <th>значение</th>\n",
              "      <th>пример</th>\n",
              "      <th>леммы</th>\n",
              "      <th>предсказанное значение</th>\n",
              "      <th>предсказанные значения2</th>\n",
              "    </tr>\n",
              "  </thead>\n",
              "  <tbody>\n",
              "    <tr>\n",
              "      <th>1</th>\n",
              "      <td>1</td>\n",
              "      <td>Я чувствовал, как острые лезвия слегка надавливают на виски, и под их напором лопается моя несчастная тонкая кожа</td>\n",
              "      <td>я чувствовать как острый лезвие слегка надавливать на виски и под их напор лопаться мой несчастный тонкий кожа\\n</td>\n",
              "      <td>1</td>\n",
              "      <td>3</td>\n",
              "    </tr>\n",
              "    <tr>\n",
              "      <th>5</th>\n",
              "      <td>1</td>\n",
              "      <td>Вздутия в виде воздушных пузырей устраняют путём надреза дефектного места посередине вдоль волокон острым ножом или скальпелем с наклоном под углом 30</td>\n",
              "      <td>вздутие в вид воздушный пузырь устранять путем надрез дефектный место посередине вдоль волокно острый нож или скальпель с наклон под угол 30\\n</td>\n",
              "      <td>2</td>\n",
              "      <td>3</td>\n",
              "    </tr>\n",
              "    <tr>\n",
              "      <th>7</th>\n",
              "      <td>1</td>\n",
              "      <td>Они привязывали к палке острый нож и срезали им узелок с продуктами, висевший в форточке второго этажа</td>\n",
              "      <td>они привязывать к палка острый нож и срезать они узелок с продукт висеть в форточка второй этаж\\n</td>\n",
              "      <td>2</td>\n",
              "      <td>3</td>\n",
              "    </tr>\n",
              "    <tr>\n",
              "      <th>9</th>\n",
              "      <td>1</td>\n",
              "      <td>Можно удалить надпись механически острой бритвой, если толщина бумаги позволяет</td>\n",
              "      <td>можно удалять надпись механически острый бритва если толщина бумага позволять\\n</td>\n",
              "      <td>1</td>\n",
              "      <td>3</td>\n",
              "    </tr>\n",
              "    <tr>\n",
              "      <th>10</th>\n",
              "      <td>1</td>\n",
              "      <td>Она отскоблила острой бритвой от таблетки несколько крупинок, приняв которые я утром еле встала.</td>\n",
              "      <td>она отскабливать острый бритва от таблетка несколько крупинка принимать который я утро еле вставать\\n</td>\n",
              "      <td>2</td>\n",
              "      <td>3</td>\n",
              "    </tr>\n",
              "    <tr>\n",
              "      <th>12</th>\n",
              "      <td>1</td>\n",
              "      <td>Для разреза пользуйтесь монтажным ножом или острыми ножницами</td>\n",
              "      <td>для разрез пользоваться монтажный нож или острый ножницы\\n</td>\n",
              "      <td>1</td>\n",
              "      <td>3</td>\n",
              "    </tr>\n",
              "    <tr>\n",
              "      <th>13</th>\n",
              "      <td>1</td>\n",
              "      <td>Карл острыми, блестящими, кривыми ножницами обрезал мне ногти, а я трясла в воздухе руками и смеялась</td>\n",
              "      <td>карл острый блестящий кривой ножницы обрезать я ноготь а я трясти в воздух рука и смеяться\\n</td>\n",
              "      <td>1</td>\n",
              "      <td>3</td>\n",
              "    </tr>\n",
              "    <tr>\n",
              "      <th>16</th>\n",
              "      <td>1</td>\n",
              "      <td>Но не заметил острого края сломанной кровати и зацепился за него своими бинтами.</td>\n",
              "      <td>но не замечать острый край сломать кровать и зацепляться за он свой бинт\\n</td>\n",
              "      <td>1</td>\n",
              "      <td>3</td>\n",
              "    </tr>\n",
              "    <tr>\n",
              "      <th>17</th>\n",
              "      <td>1</td>\n",
              "      <td>Менять ее надо ежедневно, периодически подрезая при этом острым ножом нижнюю часть стебля, который все еще продолжает удлиняться в воде.</td>\n",
              "      <td>менять она надо ежедневно периодически подрезать при это острый нож нижний часть стебель который весь еще продолжать удлиняться в вода\\n</td>\n",
              "      <td>2</td>\n",
              "      <td>3</td>\n",
              "    </tr>\n",
              "    <tr>\n",
              "      <th>20</th>\n",
              "      <td>2</td>\n",
              "      <td>Сначала для приготовления куриных крылышек под острым соусом надо приготовить маринад.</td>\n",
              "      <td>сначала для приготовление куриный крылышко под острый соус надо приготавливать маринад\\n</td>\n",
              "      <td>2</td>\n",
              "      <td>3</td>\n",
              "    </tr>\n",
              "    <tr>\n",
              "      <th>23</th>\n",
              "      <td>2</td>\n",
              "      <td>Мероприятие было ангажированным, под острый соус и великолепные отбивные нарождающаяся партия с импровизированной трибуны хотела запустить бациллу политики в светлые умы.</td>\n",
              "      <td>мероприятие быть ангажированный под острый соус и великолепный отбивной нарождаться партия с импровизированный трибуна хотеть запускать бацилла политика в светлый ум\\n</td>\n",
              "      <td>2</td>\n",
              "      <td>3</td>\n",
              "    </tr>\n",
              "    <tr>\n",
              "      <th>28</th>\n",
              "      <td>2</td>\n",
              "      <td>Если же салат готовят только из листьев руколы, его острый вкус можно смягчить, добавив несколько капель лимонного сока.</td>\n",
              "      <td>если же салат готовить только из лист рукол его острый вкус можно смягчать добавлять несколько капля лимонный сок\\n</td>\n",
              "      <td>1</td>\n",
              "      <td>3</td>\n",
              "    </tr>\n",
              "    <tr>\n",
              "      <th>36</th>\n",
              "      <td>2</td>\n",
              "      <td>Эми Ли Тащится от китайской еды, острых экзотических блюд и сложносочиненных соусов.</td>\n",
              "      <td>эми ли тащиться от китайский еда острый экзотический блюдо и сложносочиненный соус\\n</td>\n",
              "      <td>1</td>\n",
              "      <td>3</td>\n",
              "    </tr>\n",
              "    <tr>\n",
              "      <th>43</th>\n",
              "      <td>3</td>\n",
              "      <td>она была буквально неистощима на острое слово, на шутки, подчас очень нескромные.</td>\n",
              "      <td>она быть буквально неистощимый на острый слово на шутка подчас очень нескромный\\n</td>\n",
              "      <td>2</td>\n",
              "      <td>3</td>\n",
              "    </tr>\n",
              "    <tr>\n",
              "      <th>52</th>\n",
              "      <td>3</td>\n",
              "      <td>Найдут ли место в дневнике острые мысли, слова, анекдоты.</td>\n",
              "      <td>находить ли место в дневник острый мысль слово анекдот\\n</td>\n",
              "      <td>1</td>\n",
              "      <td>3</td>\n",
              "    </tr>\n",
              "    <tr>\n",
              "      <th>53</th>\n",
              "      <td>3</td>\n",
              "      <td>Троцкий сделал ряд острых критических замечаний насчет того, что Зиновьев и Коминтерн все проглядели и занялись всем слишком поздно</td>\n",
              "      <td>троцкий сделать ряд острый критический замечание насчет то что зиновьев и коминтерн все проглядеть и заниматься весь слишком поздно\\n</td>\n",
              "      <td>2</td>\n",
              "      <td>3</td>\n",
              "    </tr>\n",
              "    <tr>\n",
              "      <th>55</th>\n",
              "      <td>3</td>\n",
              "      <td>Он узнал об изменах, об острых ответах королей, о римских полководцах, о славных женщинах, которые умели прятать любовников; перелистал словарь римских куртизанок; более всех ему понравилась ловкая Лаиса, подруга жирного Аристиппа; прочел о людях, которые, умирая на плахе, делали острые замечания</td>\n",
              "      <td>он узнавать об измена об острый ответ король о римский полководец о славный женщина который уметь прятать любовник перелистывать словарь римский куртизанка много все он понравиться ловкий лаиса подруга жирный аристиппа прочитывать о человек который умирать на плаха делать острый замечание\\n</td>\n",
              "      <td>2</td>\n",
              "      <td>3</td>\n",
              "    </tr>\n",
              "    <tr>\n",
              "      <th>57</th>\n",
              "      <td>3</td>\n",
              "      <td>Впрочем, Игорь Николаевич своего зама любил, работником тот был отменным и другом преданным, уже много лет они знакомы и близки, а то, что Жорик порой позволяет себе нелицеприятные замечания и острые высказывания, так на то он и друг.</td>\n",
              "      <td>впрочем игорь николаевич свой зам любить работник тот быть отменный и друг преданный уже много год они знакомый и близкий а то что жорик пора позволять себя нелицеприятный замечание и острый высказывание так на то он и друг\\n</td>\n",
              "      <td>1</td>\n",
              "      <td>3</td>\n",
              "    </tr>\n",
              "    <tr>\n",
              "      <th>60</th>\n",
              "      <td>3</td>\n",
              "      <td>С его чувством острого слова, с его умением слышать оттенки речи он был просто кладом для приезжей ученой дамы.</td>\n",
              "      <td>с его чувство острый слово с его умение слышать оттенок речь он быть просто клад для приезжий ученый дама\\n</td>\n",
              "      <td>2</td>\n",
              "      <td>3</td>\n",
              "    </tr>\n",
              "  </tbody>\n",
              "</table>\n",
              "</div>"
            ],
            "text/plain": [
              "    значение  ... предсказанные значения2\n",
              "1          1  ...                       3\n",
              "5          1  ...                       3\n",
              "7          1  ...                       3\n",
              "9          1  ...                       3\n",
              "10         1  ...                       3\n",
              "12         1  ...                       3\n",
              "13         1  ...                       3\n",
              "16         1  ...                       3\n",
              "17         1  ...                       3\n",
              "20         2  ...                       3\n",
              "23         2  ...                       3\n",
              "28         2  ...                       3\n",
              "36         2  ...                       3\n",
              "43         3  ...                       3\n",
              "52         3  ...                       3\n",
              "53         3  ...                       3\n",
              "55         3  ...                       3\n",
              "57         3  ...                       3\n",
              "60         3  ...                       3\n",
              "\n",
              "[19 rows x 5 columns]"
            ]
          },
          "metadata": {
            "tags": []
          },
          "execution_count": 78
        }
      ]
    },
    {
      "cell_type": "markdown",
      "metadata": {
        "id": "ezkV20Zf8fIX"
      },
      "source": [
        "В него попали примеры со всеми тремя изначально заданными значениями. Значит, этот метод достаточно плохо увидел разницу между ними"
      ]
    }
  ]
}