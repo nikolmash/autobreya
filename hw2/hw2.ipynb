{
  "nbformat": 4,
  "nbformat_minor": 0,
  "metadata": {
    "colab": {
      "name": "hw2_autobreya.ipynb",
      "provenance": [],
      "toc_visible": true,
      "include_colab_link": true
    },
    "kernelspec": {
      "display_name": "Python 3",
      "language": "python",
      "name": "python3"
    },
    "language_info": {
      "codemirror_mode": {
        "name": "ipython",
        "version": 3
      },
      "file_extension": ".py",
      "mimetype": "text/x-python",
      "name": "python",
      "nbconvert_exporter": "python",
      "pygments_lexer": "ipython3",
      "version": "3.6.2"
    }
  },
  "cells": [
    {
      "cell_type": "markdown",
      "metadata": {
        "id": "view-in-github",
        "colab_type": "text"
      },
      "source": [
        "<a href=\"https://colab.research.google.com/github/nikolmash/autobreya/blob/main/hw2/hw2.ipynb\" target=\"_parent\"><img src=\"https://colab.research.google.com/assets/colab-badge.svg\" alt=\"Open In Colab\"/></a>"
      ]
    },
    {
      "cell_type": "markdown",
      "metadata": {
        "id": "SVp0qWBOoIly"
      },
      "source": [
        "# Извлечение коллокаций + NER"
      ]
    },
    {
      "cell_type": "markdown",
      "metadata": {
        "id": "DJ3A70HOoIlz"
      },
      "source": [
        "В качестве корпуса я использовала отзывы с Amazon на одежду и аксессуары "
      ]
    },
    {
      "cell_type": "code",
      "metadata": {
        "colab": {
          "base_uri": "https://localhost:8080/"
        },
        "id": "zLZUNIfur0-x",
        "outputId": "8764f3cd-80e2-4928-fe51-39b82fc67d3c"
      },
      "source": [
        "!wget https://www.dropbox.com/s/awgoua1rp1i871d/Clothing_%26_Accessories.txt"
      ],
      "execution_count": 1,
      "outputs": [
        {
          "output_type": "stream",
          "text": [
            "--2020-12-21 12:37:28--  https://www.dropbox.com/s/awgoua1rp1i871d/Clothing_%26_Accessories.txt\n",
            "Resolving www.dropbox.com (www.dropbox.com)... 162.125.5.18, 2620:100:601d:18::a27d:512\n",
            "Connecting to www.dropbox.com (www.dropbox.com)|162.125.5.18|:443... connected.\n",
            "HTTP request sent, awaiting response... 301 Moved Permanently\n",
            "Location: /s/raw/awgoua1rp1i871d/Clothing_%26_Accessories.txt [following]\n",
            "--2020-12-21 12:37:28--  https://www.dropbox.com/s/raw/awgoua1rp1i871d/Clothing_%26_Accessories.txt\n",
            "Reusing existing connection to www.dropbox.com:443.\n",
            "HTTP request sent, awaiting response... 302 Found\n",
            "Location: https://uc25aca8517d2b5212aa15cd4655.dl.dropboxusercontent.com/cd/0/inline/BFfIPwhrN48mjkrD0uxWln61yR88iaNsS9P_BbJKz6hdqGOuCHUmgR6_oyOei4O6F0EssyFsIhtj_UT5MYucQkeMXJwtHv6qMQ6nBmE8NJ28-SX6HmKI43SlNJxreOnMxXs/file# [following]\n",
            "--2020-12-21 12:37:28--  https://uc25aca8517d2b5212aa15cd4655.dl.dropboxusercontent.com/cd/0/inline/BFfIPwhrN48mjkrD0uxWln61yR88iaNsS9P_BbJKz6hdqGOuCHUmgR6_oyOei4O6F0EssyFsIhtj_UT5MYucQkeMXJwtHv6qMQ6nBmE8NJ28-SX6HmKI43SlNJxreOnMxXs/file\n",
            "Resolving uc25aca8517d2b5212aa15cd4655.dl.dropboxusercontent.com (uc25aca8517d2b5212aa15cd4655.dl.dropboxusercontent.com)... 162.125.5.15, 2620:100:601d:15::a27d:50f\n",
            "Connecting to uc25aca8517d2b5212aa15cd4655.dl.dropboxusercontent.com (uc25aca8517d2b5212aa15cd4655.dl.dropboxusercontent.com)|162.125.5.15|:443... connected.\n",
            "HTTP request sent, awaiting response... 200 OK\n",
            "Length: 372917207 (356M) [text/plain]\n",
            "Saving to: ‘Clothing_&_Accessories.txt’\n",
            "\n",
            "Clothing_&_Accessor 100%[===================>] 355.64M  62.2MB/s    in 6.0s    \n",
            "\n",
            "2020-12-21 12:37:35 (59.0 MB/s) - ‘Clothing_&_Accessories.txt’ saved [372917207/372917207]\n",
            "\n"
          ],
          "name": "stdout"
        }
      ]
    },
    {
      "cell_type": "code",
      "metadata": {
        "id": "hE_k8YH7oIl0"
      },
      "source": [
        "import re\n",
        "\n",
        "filename = \"Clothing_&_Accessories.txt\"\n",
        "\n",
        "reviews = []\n",
        "with open(filename) as f:\n",
        "    f = f.readlines()\n",
        "for l in f:\n",
        "    l = l.strip()\n",
        "    if re.match('review/text:', l):\n",
        "        start_ind = len('review/text: ')\n",
        "        reviews.append(l[start_ind:])\n",
        "reviews = list(set(reviews))"
      ],
      "execution_count": 2,
      "outputs": []
    },
    {
      "cell_type": "markdown",
      "metadata": {
        "id": "AXlKZuTwoIl2"
      },
      "source": [
        "## 1."
      ]
    },
    {
      "cell_type": "markdown",
      "metadata": {
        "id": "-GTOI4uvoIl2"
      },
      "source": [
        "**Первый способ:**\n",
        "\n",
        "Вычитав где-то 100 отзывов, я заметила, что в текстах часто повторяются одни и те же фразы/выражения, из которых достаточно легко с помощью правил вытащить сущность товара. Это либо оценочные суждения, либо констатация факта (я заказал, купил):\n",
        "- *I bought/ purchaced/ received this (dress)*\n",
        "- *Love/enjoy this (shirt)*\n",
        "- различные словоформы лексемы *wear (I wear this jeans every day/I have worn this ring for a year)*\n",
        "- *what a (beautiful dress)*\n",
        "- *one of the best (pair of pants) I have had*\n",
        "- this is (comfortable jeans)\n",
        "\n",
        "В силу того, что в такой категории текстов используется упрощенная лексика, отсутствие каких-либо художественных средств, действительно, такие предложения могут встречаться почти в каждом отзыве. Поэтому будем использовать их как шаблоны bootstrapping и будем находить названия товары с помощью задания правил вручную.\n",
        "\n",
        "Минус такого подхода в том, что, естесственно, такие шаблонные фразы есть далеко не во всех отзывах, и какую-то часть информации мы упустим. Очень часто также в отзывах эксплицитно не называется товар, а заменяется местоимением it, но при этом такая сущность все равно будет подходить под шаблон, и нам надо будет все подчищать, в зависимости от части речи. И еще есть проблема с размытыми границами. Словит ли шаблон употребление (blue jeans вместо beatiful blue jeans)? А если нет, являются ли два этих упоминания товаров различными для нашего отчета? Это проблема в принципе актуальна для всех методов, и такие вещи нужно заранее обговаривать с заказчиком, если речь идет о реальной задаче\n"
      ]
    },
    {
      "cell_type": "markdown",
      "metadata": {
        "id": "-OfaFWk9oIl2"
      },
      "source": [
        "**Второй способ:**\n",
        "\n",
        "Помимо того, что у нас есть текст самого отзыва, также у каждого товара есть заголовок. Конкретно для корпуса с отзывами на одежду и аксессуары, скорее всего в названии будет не сам item одежды, но и цвет, стиль, бренд, узор. Поэтому просто проверять вхождение заголовка в отзыв - плохая идея. Здесь можно использовать векторные представления, например, word2vec. Чтобы модель сконцентрировалась именно на нашей задаче, можно с помощью библиотеки gensim обучить свой word2vec на всех отзывах и на всех названиях товаров. И затем для каждого названия (желательно убрать оттуда с помощью морфологического анализа все, что не существительное, еще и неодушевленное) искать наиболее близкие слова в отзывах. \n",
        "\n",
        "Если не использовать заголовки (это возможно только усложнит задачу, потому что некоторые наименования товаров очень длинные, содержат много ненужной информации), то можно извлечь с сайта любого интернет-магазина категории товаров (одежды и аксессуары), и искать похожие слова на них. Но тогда мы не будем знать какой отзыв соответствует какой категории. Будет больше вычислений.\n",
        "\n",
        "Минусы: word2vec может не сделать чуда, и не находить что-то внятно похожее на название/категорию товаров. Остается проблема с отзывами, где нет прямого обозначения товара, есть только it. Сложно с точки зрения вычислимости."
      ]
    },
    {
      "cell_type": "markdown",
      "metadata": {
        "id": "dh4AiR5OoIl2"
      },
      "source": [
        "**Третий способ:**\n",
        "\n",
        "Использовать BERT для задачи NER или просто нейросеть (biLSTM-CRF), которая будет предсказывать NE в тексте отзыва. Самая большая проблема в том, что нужен какой-то датасет для обучения. В принципе можно использовать простые методы, как выше, чтобы нагенерировать примеры, подчистить, и подать на вход модели, которая сделает все за нас. Можно также добавить какие-то признаки, например, pos-разметку (сущность скорее всего - существительное),  синтаксическую информацию (из шаблонов выше видно, что сущность чаще всего либо подлежащее либо прямое дополнение). \n",
        "\n",
        "Минусы: как я уже написала, нужны размеченные данные. Обучать что-либо достаточно долго, и надо пробовать"
      ]
    },
    {
      "cell_type": "markdown",
      "metadata": {
        "id": "3j7cTJBGoIl2"
      },
      "source": [
        "**Четвертый способ**: \n",
        "\n",
        "Довольно примитивный, но мне внезапно пришла в голову эта идея и я решила добавить. Для каждого отзыва указан id продукта, для которого он написан. А что, если сгруппировать отзывы по каждому продукту (а лучше вообще для каждой категории товаров, если это как-то закодировано в id). Получится, что для каждого товара у нас имеется один большой отзыв, и внутри него могут быть совершенно разные, написанные разными людьми упоминания одного и того же товара. Среди них можно посмотреть на биграммы с высокой совместной встречаемостью, или для начала просто на самые частотные существительные. Я думаю, что какой-либо предмет одежду/аксессуаров имеет достаточно ограниченное количество слов, которым их можно назвать. А уже от полученных существительных, или биграмм, можно искать в помощью синтаксической разметки зависящие от них единицы (какую-то целую составляющую в дереве. Например, если мы нашли с помощью частых биграмм christmas socks, то обязательно найдем nice christmas socks).\n",
        "\n",
        "Минусы: нужно все просматривать глазами, все чистить от лишнего. Использование нетривиальной синтаксической разметки, тем более предложения могут быть грамматически неполными, если это какой-то короткий отзыв, и парсер на них сломается. Уникальные упоминания товаров (а вдруг такие будут) не будут являться частотными, а значит, не попадут в наше рассмотрение. С другой стороны, топ самых редких слов (особенно только существительных) просмотреть - не очень большая проблема."
      ]
    },
    {
      "cell_type": "markdown",
      "metadata": {
        "id": "JwzhzbMEoIl2"
      },
      "source": [
        "## 2. "
      ]
    },
    {
      "cell_type": "markdown",
      "metadata": {
        "id": "Jta-Hw8HoIl3"
      },
      "source": [
        "Я буду реализовывать первый метод с помощью вручную заданных правил/шаблонов\r\n",
        "\r\n",
        "В задании указан совет делать это через natasha/yargy, что очень странно, поскольку он написан для русского языка (внутри него лежит pymorphy, можно, наверное писать простые правила для английского и без функционала морфологии, но кажется, это не очень рационально). Поэтому я использую похожий [инструмент](https://spacy.io/usage/rule-based-matching#matcher) из spacy"
      ]
    },
    {
      "cell_type": "code",
      "metadata": {
        "id": "51I3k7Gilfol"
      },
      "source": [
        "import spacy\r\n",
        "from spacy.matcher import Matcher"
      ],
      "execution_count": 3,
      "outputs": []
    },
    {
      "cell_type": "markdown",
      "metadata": {
        "id": "Q6jdo3qIhjzI"
      },
      "source": [
        "Шаблоны пишутся с помощью ограничений на токены (вернее, на то, как их разбирает spacy): на их леммы, морфологические теги и т.д. \r\n",
        "\r\n",
        "Исходя из тех частотных фраз, что я выделила ранее, создадим три шаблона:\r\n",
        "1. название продукта является прямым объектом глаголов, которые выражают оценочное суждение (*love, enjoy, like*) или глаголов, доказывающих факт покупки товара (*buy, purchase, get*). У названия продукта также может быть артикль и различные модификаторы в виде прилагательных и существительных\r\n",
        "2. чисто оценочные фразы типа *this is a nice shirt* или *it is the best socks*. Здесь название продукта входит в составное сказуемое, состоящее также из вспомогательного глагола *be*. Также учитывается неограниченное кол-во модификаторов\r\n",
        "3. Фразы *what a beautiful dress!*. Здесь название продукта является непосредственно корнем дерева, а *what* - его очередным детерминантом.\r\n",
        "\r\n",
        "Понятно, что этими тремя шаблонами, конечно, задача не ограничивается. Но эти мне показались самыми частотными и легко выделяемыми."
      ]
    },
    {
      "cell_type": "code",
      "metadata": {
        "id": "pmsNl10RyMi7"
      },
      "source": [
        "nlp = spacy.load(\"en_core_web_sm\")\r\n",
        "matcher = Matcher(nlp.vocab)\r\n",
        "pattern1 = [{'LEMMA': {\"IN\": ['buy','receive','purchase','order','love','enjoy','like','wear' ]}},\r\n",
        "           {'POS': 'DET', 'OP': '?'},\r\n",
        "           {'DEP': 'amod', 'OP': '*'},\r\n",
        "           {'POS': 'NOUN', 'OP': '*'},\r\n",
        "           {'DEP': 'dobj', 'POS': 'NOUN'}]\r\n",
        "matcher.add('verb+dobj', None, pattern1)"
      ],
      "execution_count": 4,
      "outputs": []
    },
    {
      "cell_type": "code",
      "metadata": {
        "id": "OPB979NAOXVo"
      },
      "source": [
        "pattern2 = [{'LEMMA': {'IN': ['this', '-PRON-']}, 'DEP': 'nsubj'},\r\n",
        "            {'LEMMA': 'be', 'POS': 'AUX', 'TAG': 'VBZ'},\r\n",
        "            {'POS': 'DET', 'OP': '?'},\r\n",
        "            {'DEP': 'amod', 'OP': '*'},\r\n",
        "            {'POS': 'NOUN', 'OP': '*'},\r\n",
        "            {'DEP': 'attr', 'POS': 'NOUN'}\r\n",
        "            ]\r\n",
        "matcher.add('this+attr', None, pattern2)"
      ],
      "execution_count": 5,
      "outputs": []
    },
    {
      "cell_type": "code",
      "metadata": {
        "id": "fPHtBnsASP15"
      },
      "source": [
        "pattern3 = [{'LEMMA': 'what', 'DEP': 'det'},\r\n",
        "            {'POS': 'DET', 'OP': '?'},\r\n",
        "            {'DEP': 'amod', 'OP': '*'},\r\n",
        "            {'POS': 'NOUN', 'OP': '*'},\r\n",
        "            {'DEP': 'ROOT', 'POS': 'NOUN'}\r\n",
        "            ]\r\n",
        "matcher.add('what+root', None, pattern3)"
      ],
      "execution_count": 6,
      "outputs": []
    },
    {
      "cell_type": "markdown",
      "metadata": {
        "id": "3bu6mBSljTD9"
      },
      "source": [
        "Посмотрим, что за части отзывов выделяются по этим шаблонам:"
      ]
    },
    {
      "cell_type": "code",
      "metadata": {
        "colab": {
          "base_uri": "https://localhost:8080/"
        },
        "id": "rGixpsJfzJLp",
        "outputId": "28349be7-444e-41c8-f4de-25e64476ffa9"
      },
      "source": [
        "for rev in reviews[:200]:\r\n",
        "  doc = nlp(rev)\r\n",
        "  matches = matcher(doc)\r\n",
        "  for match_id, start, end in matches:\r\n",
        "    span = doc[start:end]\r\n",
        "    print(span.text)"
      ],
      "execution_count": 7,
      "outputs": [
        {
          "output_type": "stream",
          "text": [
            "ordered this bag\n",
            "like the beach\n",
            "It is prada\n",
            "it is good quality\n",
            "ordered a 4X\n",
            "This is a great bra\n",
            "purchase this bag\n",
            "enjoy this bag\n",
            "ordered my bra\n",
            "love this bra\n",
            "buying this bra\n",
            "This is a neccessary article\n",
            "wear pants\n",
            "loves his red chair\n",
            "bought a pair\n",
            "wear this shoe\n",
            "love the size\n",
            "worn these things\n",
            "ordered this pair\n",
            "wear this size\n",
            "purchased a bunch\n",
            "wear Black caps\n",
            "loves this costume\n",
            "this is a minimizer\n",
            "It's my favorite style\n",
            "love this wallet\n",
            "It is the perfect size\n",
            "it is a great sports bra\n",
            "this is a great cause\n",
            "received this bag\n",
            "love the square zipper\n",
            "This is a great costume\n",
            "received the box\n",
            "receive the item\n",
            "receive a credit\n",
            "love the waterproof part\n",
            "purchased a bra\n",
            "This is a wonderful item\n",
            "purchase these shirts\n",
            "bought additional pair\n",
            "buy Levis\n",
            "bought a few pairs\n",
            "liked the way\n",
            "wearing my ID\n",
            "bought this wallet\n",
            "bought this one\n",
            "loves this belt\n",
            "received item\n",
            "Received many many compliments\n",
            "order the size\n",
            "wear 12\"-shaft western boots\n",
            "This is casual wear\n",
            "This is the softest robe\n",
            "This is a great bathrobe\n",
            "buy every colour\n",
            "love the beautiful shape\n",
            "buying Dickies\n",
            "love this hat\n",
            "wears these shirts\n",
            "ordered this costume\n",
            "it's a draw\n",
            "this is a great clothing item\n",
            "This is the problem\n",
            "It is high quality\n",
            "This is an excellent tote bag\n",
            "wore the prenatal mini cradle\n",
            "bought the petite size\n",
            "ordered the medium shoe\n",
            "order a small pair\n",
            "Love the bag\n",
            "received some compliments\n",
            "ordered this jacket\n",
            "love this bra\n",
            "this is a normal sized backpack\n",
            "love the colors\n",
            "it is a great product\n",
            "love the material\n",
            "ordering clothes\n",
            "This is a cute little panty\n",
            "love the item\n",
            "buy one\n",
            "wear a long sleeve shirt\n",
            "This is the best maternity bra\n",
            "What a waste\n",
            "wear a suit\n",
            "wear pants\n",
            "It is the strange method\n",
            "It is roomy\n",
            "bought this key fob\n",
            "love leather stuffs\n",
            "it is a part\n",
            "wear a medium\n",
            "It's a beautiful bag\n",
            "love this purchase\n",
            "Received the correct item\n",
            "bought this deep plunge\n",
            "What a disappointment\n",
            "purchased this toy\n",
            "loves this toy\n",
            "loves competition\n",
            "love the costume\n",
            "order costumes\n",
            "wear a long sleeve shirt\n",
            "buy another pair\n",
            "wear a normal maidenform bra\n",
            "ordered a size\n",
            "order the larger size\n",
            "this is the real thing\n",
            "wear a size\n",
            "wears sunglasses\n",
            "purchase another one\n",
            "It's a great piece\n",
            "it is a beautiful pale pink\n",
            "like this one\n",
            "buy the larger size\n",
            "this is a case\n",
            "it's shape\n",
            "wear briefs\n",
            "this is unnecessary extra work\n",
            "purchased black\n",
            "bought this slim line credit card holder\n",
            "like the quality\n",
            "bought this jacket\n",
            "buy this jacket\n",
            "buy a size\n",
            "like design\n",
            "bought this hat\n"
          ],
          "name": "stdout"
        }
      ]
    },
    {
      "cell_type": "markdown",
      "metadata": {
        "id": "WeMfkE6ikM9j"
      },
      "source": [
        "Выделяется примерно то, что и планировалось. И даже если у названия продукта есть какие-то модификации в виде прилагательных или других существительных типа *leather*, они тоже были выделены. Естественно, не все примеры идеальны - например, шаблон цепляет фразы про размер продукта, про его форму/качество, поскольку все эти характеристики также представлены в виде существительных (*size, style, length, quality, cotton*). Также стоит сделать скидку на то, что не все разборы spacy идеальны, а в шаблонах есть достаточно сильная привязка к морфосинтаксическим тегам."
      ]
    },
    {
      "cell_type": "markdown",
      "metadata": {
        "id": "5LkZvzvinUix"
      },
      "source": [
        "По сути, из большого отзыва мы научились вытаскивать микро-предложение, поскольку все, что подходит под шаблон, грамматически им является. Соответственно, из этих вычлененных частей будет легко достать само название продукта, опять же с помощью синтаксических тегов spacy, которые будут корректными в силу полноты предложения.\r\n",
        "\r\n",
        "Было бы удобно прописывать в правилах, как в yargy, какое из правил относится к какой сущности, и сразу их маркировать, тогда можно было бы отдельно доставать глагол, отдельно модификации, отдельно - сам продукт. Но, к сожалению, такой функционал не предусмотрен.\r\n",
        "\r\n"
      ]
    },
    {
      "cell_type": "markdown",
      "metadata": {
        "id": "fbS1yskF1cFW"
      },
      "source": [
        "Будем работать с каждым шаблоном по отдельности, потому что в каждом шаблоне само название продуктов имеет разную синтаксическую роль.\r\n",
        "\r\n",
        "В первом шаблоне продуктом является прямой объект. У него также может быть важный модификатор, без которого единственное существительное не является названием продуктом. Такие модификаторы spacy помечает как compound (см.ниже в дереве *phone cover* - полное название продукта). При наличии, его тоже будем извлекать. Модификации в виде прилагательных не будем извлекать, потому что они часто оценочные. Их проанализируем ниже, когда будем смотреть на соседей"
      ]
    },
    {
      "cell_type": "code",
      "metadata": {
        "id": "pWqcaHbIoIl7",
        "colab": {
          "base_uri": "https://localhost:8080/",
          "height": 420
        },
        "outputId": "52e553f2-e6ae-4e2c-cb0d-e5fbfb507782"
      },
      "source": [
        "from spacy import displacy\r\n",
        "from IPython.core.display import display, HTML\r\n",
        "\r\n",
        "doc1 = nlp('bought this phone cover')\r\n",
        "html = displacy.render([doc1], style=\"dep\")\r\n",
        "display(HTML(html))"
      ],
      "execution_count": 8,
      "outputs": [
        {
          "output_type": "display_data",
          "data": {
            "text/html": [
              "<svg xmlns=\"http://www.w3.org/2000/svg\" xmlns:xlink=\"http://www.w3.org/1999/xlink\" xml:lang=\"en\" id=\"31a977014bdd44f09e1bf3070034b7ea-0\" class=\"displacy\" width=\"750\" height=\"399.5\" direction=\"ltr\" style=\"max-width: none; height: 399.5px; color: #000000; background: #ffffff; font-family: Arial; direction: ltr\">\n",
              "<text class=\"displacy-token\" fill=\"currentColor\" text-anchor=\"middle\" y=\"309.5\">\n",
              "    <tspan class=\"displacy-word\" fill=\"currentColor\" x=\"50\">bought</tspan>\n",
              "    <tspan class=\"displacy-tag\" dy=\"2em\" fill=\"currentColor\" x=\"50\">VERB</tspan>\n",
              "</text>\n",
              "\n",
              "<text class=\"displacy-token\" fill=\"currentColor\" text-anchor=\"middle\" y=\"309.5\">\n",
              "    <tspan class=\"displacy-word\" fill=\"currentColor\" x=\"225\">this</tspan>\n",
              "    <tspan class=\"displacy-tag\" dy=\"2em\" fill=\"currentColor\" x=\"225\">DET</tspan>\n",
              "</text>\n",
              "\n",
              "<text class=\"displacy-token\" fill=\"currentColor\" text-anchor=\"middle\" y=\"309.5\">\n",
              "    <tspan class=\"displacy-word\" fill=\"currentColor\" x=\"400\">phone</tspan>\n",
              "    <tspan class=\"displacy-tag\" dy=\"2em\" fill=\"currentColor\" x=\"400\">NOUN</tspan>\n",
              "</text>\n",
              "\n",
              "<text class=\"displacy-token\" fill=\"currentColor\" text-anchor=\"middle\" y=\"309.5\">\n",
              "    <tspan class=\"displacy-word\" fill=\"currentColor\" x=\"575\">cover</tspan>\n",
              "    <tspan class=\"displacy-tag\" dy=\"2em\" fill=\"currentColor\" x=\"575\">NOUN</tspan>\n",
              "</text>\n",
              "\n",
              "<g class=\"displacy-arrow\">\n",
              "    <path class=\"displacy-arc\" id=\"arrow-31a977014bdd44f09e1bf3070034b7ea-0-0\" stroke-width=\"2px\" d=\"M245,264.5 C245,89.5 570.0,89.5 570.0,264.5\" fill=\"none\" stroke=\"currentColor\"/>\n",
              "    <text dy=\"1.25em\" style=\"font-size: 0.8em; letter-spacing: 1px\">\n",
              "        <textPath xlink:href=\"#arrow-31a977014bdd44f09e1bf3070034b7ea-0-0\" class=\"displacy-label\" startOffset=\"50%\" side=\"left\" fill=\"currentColor\" text-anchor=\"middle\">det</textPath>\n",
              "    </text>\n",
              "    <path class=\"displacy-arrowhead\" d=\"M245,266.5 L237,254.5 253,254.5\" fill=\"currentColor\"/>\n",
              "</g>\n",
              "\n",
              "<g class=\"displacy-arrow\">\n",
              "    <path class=\"displacy-arc\" id=\"arrow-31a977014bdd44f09e1bf3070034b7ea-0-1\" stroke-width=\"2px\" d=\"M420,264.5 C420,177.0 565.0,177.0 565.0,264.5\" fill=\"none\" stroke=\"currentColor\"/>\n",
              "    <text dy=\"1.25em\" style=\"font-size: 0.8em; letter-spacing: 1px\">\n",
              "        <textPath xlink:href=\"#arrow-31a977014bdd44f09e1bf3070034b7ea-0-1\" class=\"displacy-label\" startOffset=\"50%\" side=\"left\" fill=\"currentColor\" text-anchor=\"middle\">compound</textPath>\n",
              "    </text>\n",
              "    <path class=\"displacy-arrowhead\" d=\"M420,266.5 L412,254.5 428,254.5\" fill=\"currentColor\"/>\n",
              "</g>\n",
              "\n",
              "<g class=\"displacy-arrow\">\n",
              "    <path class=\"displacy-arc\" id=\"arrow-31a977014bdd44f09e1bf3070034b7ea-0-2\" stroke-width=\"2px\" d=\"M70,264.5 C70,2.0 575.0,2.0 575.0,264.5\" fill=\"none\" stroke=\"currentColor\"/>\n",
              "    <text dy=\"1.25em\" style=\"font-size: 0.8em; letter-spacing: 1px\">\n",
              "        <textPath xlink:href=\"#arrow-31a977014bdd44f09e1bf3070034b7ea-0-2\" class=\"displacy-label\" startOffset=\"50%\" side=\"left\" fill=\"currentColor\" text-anchor=\"middle\">dobj</textPath>\n",
              "    </text>\n",
              "    <path class=\"displacy-arrowhead\" d=\"M575.0,266.5 L583.0,254.5 567.0,254.5\" fill=\"currentColor\"/>\n",
              "</g>\n",
              "</svg>"
            ],
            "text/plain": [
              "<IPython.core.display.HTML object>"
            ]
          },
          "metadata": {
            "tags": []
          }
        }
      ]
    },
    {
      "cell_type": "markdown",
      "metadata": {
        "id": "au3pBvPz4YLq"
      },
      "source": [
        "В рамках задания я возьму не полный датасет из почти 600 000 отзывов, а только 100 000. Matcher из spacy работает очень долго, а этого объема текстов должно хватить для ранжирования"
      ]
    },
    {
      "cell_type": "code",
      "metadata": {
        "id": "b7-yprtaoOnK"
      },
      "source": [
        "matcher1 = Matcher(nlp.vocab)\r\n",
        "matcher1.add('verb+dobj', None, pattern1)\r\n",
        "\r\n",
        "matched_to_pattern1 = []\r\n",
        "\r\n",
        "for rev in reviews[:100000]:\r\n",
        "  doc = nlp(rev)\r\n",
        "  matches = matcher1(doc)\r\n",
        "  for match_id, start, end in matches:\r\n",
        "    span = doc[start:end]\r\n",
        "    matched_to_pattern1.append(span.text)"
      ],
      "execution_count": 9,
      "outputs": []
    },
    {
      "cell_type": "code",
      "metadata": {
        "colab": {
          "base_uri": "https://localhost:8080/"
        },
        "id": "Fk6FGk5jpYBg",
        "outputId": "8cfe86f5-bae3-40af-eb55-7eec8dff6f7b"
      },
      "source": [
        "print(len(matched_to_pattern1))"
      ],
      "execution_count": 10,
      "outputs": [
        {
          "output_type": "stream",
          "text": [
            "40670\n"
          ],
          "name": "stdout"
        }
      ]
    },
    {
      "cell_type": "markdown",
      "metadata": {
        "id": "AmDYdhRb-dai"
      },
      "source": [
        "В список products будем записывать вытянутые упоминания товаров"
      ]
    },
    {
      "cell_type": "code",
      "metadata": {
        "id": "CLBC-TzZ21FD"
      },
      "source": [
        "matcher1_to_products = Matcher(nlp.vocab)\r\n",
        "pattern1_products = [{'DEP': 'compound', 'POS': 'NOUN', 'OP': '*'},\r\n",
        "                     {'DEP': 'dobj', 'POS': 'NOUN'}]\r\n",
        "matcher1_to_products.add('dobj', None, pattern1_products)\r\n",
        "\r\n",
        "products = []\r\n",
        "for micro_sent in matched_to_pattern1:\r\n",
        "  doc = nlp(micro_sent)\r\n",
        "  matches = matcher1_to_products(doc)\r\n",
        "  for match_id, start, end in matches:\r\n",
        "    span = doc[start:end]\r\n",
        "    if span.text not in products:\r\n",
        "      products.append(span.text)"
      ],
      "execution_count": 11,
      "outputs": []
    },
    {
      "cell_type": "markdown",
      "metadata": {
        "id": "n-yE1KyZ0IP3"
      },
      "source": [
        "Проделаем то же самое со вторым шаблоном, где искомое название товара является частью составного сказуемого (тег attr)"
      ]
    },
    {
      "cell_type": "code",
      "metadata": {
        "id": "xgXlf41m5GAS"
      },
      "source": [
        "matcher2 = Matcher(nlp.vocab)\r\n",
        "matcher2.add('this+attr', None, pattern2)\r\n",
        "\r\n",
        "matched_to_pattern2 = []\r\n",
        "\r\n",
        "for rev in reviews[:100000]:\r\n",
        "  doc = nlp(rev)\r\n",
        "  matches = matcher2(doc)\r\n",
        "  for match_id, start, end in matches:\r\n",
        "    span = doc[start:end]\r\n",
        "    matched_to_pattern2.append(span.text)"
      ],
      "execution_count": 12,
      "outputs": []
    },
    {
      "cell_type": "code",
      "metadata": {
        "colab": {
          "base_uri": "https://localhost:8080/"
        },
        "id": "IbXAf4cR5r-p",
        "outputId": "8fa5e3d3-ff08-4d38-de5d-4dbb9fad7bf3"
      },
      "source": [
        "print(len(matched_to_pattern2))"
      ],
      "execution_count": 13,
      "outputs": [
        {
          "output_type": "stream",
          "text": [
            "10947\n"
          ],
          "name": "stdout"
        }
      ]
    },
    {
      "cell_type": "code",
      "metadata": {
        "id": "iqvy5jE65ms8"
      },
      "source": [
        "matcher2_to_products = Matcher(nlp.vocab)\r\n",
        "pattern2_products = [{'DEP': 'compound', 'POS': 'NOUN', 'OP': '*'},\r\n",
        "                     {'DEP': 'attr', 'POS': 'NOUN'}]\r\n",
        "matcher2_to_products.add('attr', None, pattern2_products)\r\n",
        "\r\n",
        "for micro_sent in matched_to_pattern2:\r\n",
        "  doc = nlp(micro_sent)\r\n",
        "  matches = matcher2_to_products(doc)\r\n",
        "  for match_id, start, end in matches:\r\n",
        "    span = doc[start:end]\r\n",
        "    if span.text not in products:\r\n",
        "      products.append(span.text)"
      ],
      "execution_count": 14,
      "outputs": []
    },
    {
      "cell_type": "markdown",
      "metadata": {
        "id": "8QmeFtxJI7kA"
      },
      "source": [
        "И те же самые действия с третьим шаблоном, где наименование товара является корнем дерева зависимостей"
      ]
    },
    {
      "cell_type": "code",
      "metadata": {
        "id": "Zh82Qeqm5TSb"
      },
      "source": [
        "matcher3 = Matcher(nlp.vocab)\r\n",
        "matcher3.add('what+root', None, pattern3)\r\n",
        "\r\n",
        "matched_to_pattern3 = []\r\n",
        "\r\n",
        "for rev in reviews[:100000]:\r\n",
        "  doc = nlp(rev)\r\n",
        "  matches = matcher3(doc)\r\n",
        "  for match_id, start, end in matches:\r\n",
        "    span = doc[start:end]\r\n",
        "    matched_to_pattern3.append(span.text)"
      ],
      "execution_count": 15,
      "outputs": []
    },
    {
      "cell_type": "code",
      "metadata": {
        "colab": {
          "base_uri": "https://localhost:8080/"
        },
        "id": "sOfPW0zF5nlv",
        "outputId": "28b52979-4e65-4445-f9bd-1b729d4996ca"
      },
      "source": [
        "print(len(matched_to_pattern3))"
      ],
      "execution_count": 16,
      "outputs": [
        {
          "output_type": "stream",
          "text": [
            "367\n"
          ],
          "name": "stdout"
        }
      ]
    },
    {
      "cell_type": "markdown",
      "metadata": {
        "id": "Vthdts8eQH4E"
      },
      "source": [
        "Видно, что этот шаблон не самый удачный, но тем не менее и оттуда вычленим упоминания:"
      ]
    },
    {
      "cell_type": "code",
      "metadata": {
        "id": "54EfYXSW_VsT"
      },
      "source": [
        "matcher3_to_products = Matcher(nlp.vocab)\r\n",
        "pattern3_products = [{'DEP': 'compound', 'POS': 'NOUN', 'OP': '*'},\r\n",
        "                     {'DEP': 'ROOT', 'POS': 'NOUN'}]\r\n",
        "matcher3_to_products.add('root', None, pattern3_products)\r\n",
        "\r\n",
        "for micro_sent in matched_to_pattern3:\r\n",
        "  doc = nlp(micro_sent)\r\n",
        "  matches = matcher3_to_products(doc)\r\n",
        "  for match_id, start, end in matches:\r\n",
        "    span = doc[start:end]\r\n",
        "    if span.text not in products:\r\n",
        "      products.append(span.text)"
      ],
      "execution_count": 17,
      "outputs": []
    },
    {
      "cell_type": "markdown",
      "metadata": {
        "id": "Loe9RURcJGbt"
      },
      "source": [
        "Упоминания товаров из отзывов извлечены. Посмотрим на случайные элементы итогового списка products: "
      ]
    },
    {
      "cell_type": "code",
      "metadata": {
        "colab": {
          "base_uri": "https://localhost:8080/"
        },
        "id": "aN8kPS6ZW1Sh",
        "outputId": "43c73ef9-ac8a-4e75-a100-ed94d73a7466"
      },
      "source": [
        "print('Количество упоминаний: ', len(products))"
      ],
      "execution_count": 18,
      "outputs": [
        {
          "output_type": "stream",
          "text": [
            "Количество упоминаний:  5631\n"
          ],
          "name": "stdout"
        }
      ]
    },
    {
      "cell_type": "code",
      "metadata": {
        "colab": {
          "base_uri": "https://localhost:8080/"
        },
        "id": "bqvtG4o0JTYV",
        "outputId": "d0e2420d-f3db-4ac3-869d-4526ac6bb01f"
      },
      "source": [
        "import numpy as np\r\n",
        "\r\n",
        "for rand_ind in np.random.randint(len(products), size=30):\r\n",
        "  print(products[rand_ind])"
      ],
      "execution_count": 19,
      "outputs": [
        {
          "output_type": "stream",
          "text": [
            "sleeveless versions\n",
            "layer socks\n",
            "bearcat\n",
            "bootie\n",
            "workmanship\n",
            "quality mask\n",
            "heater\n",
            "glamorise\n",
            "brain bucket\n",
            "bandana-\n",
            "compression bra\n",
            "series\n",
            "oil\n",
            "barrier\n",
            "lines\n",
            "firefighter\n",
            "washcloths\n",
            "love\n",
            "skullcap\n",
            "duplicate\n",
            "instructions\n",
            "space captain!Great item\n",
            "pillows\n",
            "boxer shorts\n",
            "beatles\n",
            "cycling shorts\n",
            "hair fork\n",
            "childs\n",
            "indication\n",
            "gauche\n"
          ],
          "name": "stdout"
        }
      ]
    },
    {
      "cell_type": "markdown",
      "metadata": {
        "id": "L1isH9lhJUCl"
      },
      "source": [
        "##3. "
      ]
    },
    {
      "cell_type": "markdown",
      "metadata": {
        "id": "2jdp768RTBz9"
      },
      "source": [
        "Для коллокаций будем смотреть на левого соседа. Это более естесственно для английского языка (в именной группе сначала идут модификаторы) и наши шаблоны были составлены именно так.\r\n",
        "\r\n",
        "Для этого мы пройдемся по тем частям отзывов, что подошли под наши шаблоны"
      ]
    },
    {
      "cell_type": "code",
      "metadata": {
        "id": "B0ZVP-5SUMWp"
      },
      "source": [
        "matched_to_patterns = matched_to_pattern1\r\n",
        "matched_to_patterns.extend(matched_to_pattern2)\r\n",
        "matched_to_patterns.extend(matched_to_pattern3)"
      ],
      "execution_count": 20,
      "outputs": []
    },
    {
      "cell_type": "code",
      "metadata": {
        "id": "N-j5l0UkJVUq"
      },
      "source": [
        "ngrams = []\r\n",
        "\r\n",
        "for match in matched_to_patterns:\r\n",
        "  for ent in products:\r\n",
        "    if ent in match:\r\n",
        "      match_words = match.split()\r\n",
        "      ent_words = ent.split()\r\n",
        "      if ent_words[0] in match_words:\r\n",
        "        ent_ind = match_words.index(ent_words[0])\r\n",
        "        if ent_ind>0:\r\n",
        "          ngrams.append(' '.join(match_words[ent_ind-1:ent_ind+len(ent)]))"
      ],
      "execution_count": 21,
      "outputs": []
    },
    {
      "cell_type": "markdown",
      "metadata": {
        "id": "XxcQsM3QgJRx"
      },
      "source": [
        "Посмотрим на случайные 30 n-грамм:"
      ]
    },
    {
      "cell_type": "code",
      "metadata": {
        "colab": {
          "base_uri": "https://localhost:8080/"
        },
        "id": "fQ7ojh-pfdtu",
        "outputId": "b34757cf-a84b-4329-f0c1-7bc02d7db8ca"
      },
      "source": [
        "for rand_ind in np.random.randint(len(ngrams), size=30):\r\n",
        "  print(ngrams[rand_ind])"
      ],
      "execution_count": 22,
      "outputs": [
        {
          "output_type": "stream",
          "text": [
            "the support\n",
            "these shorts\n",
            "regular glasses\n",
            "shoe compartment\n",
            "this style\n",
            "a diesal mechanic\n",
            "this hat\n",
            "a pair\n",
            "these shirts\n",
            "these socks\n",
            "cell phone case\n",
            "this product\n",
            "my 3rd shirt\n",
            "wear boxers\n",
            "this costume\n",
            "a second pair\n",
            "hot chillys\n",
            "a couple\n",
            "the dresses\n",
            "the ability\n",
            "fine shirt\n",
            "this bag\n",
            "this bag\n",
            "ordered extras\n",
            "receive compliments\n",
            "poor design\n",
            "different kinds\n",
            "decent flannel\n",
            "the zippers\n",
            "another pair\n"
          ],
          "name": "stdout"
        }
      ]
    },
    {
      "cell_type": "markdown",
      "metadata": {
        "id": "RysjIUE9gMfi"
      },
      "source": [
        "Очень часто левым соседом наименования сущности является артикль, что скорее всего говорит об отсутствии какого-то модификатора, поэтому никакой значимой информации мы не теряем. Есть достаточно много интересных коллокаций, перейдем к их анализу"
      ]
    },
    {
      "cell_type": "markdown",
      "metadata": {
        "id": "luPimfNBgkmn"
      },
      "source": [
        "##4."
      ]
    },
    {
      "cell_type": "markdown",
      "metadata": {
        "id": "bOl1TUGKjyRk"
      },
      "source": [
        "Выделенные n-граммы различаются по длине, поэтому чтобы применять коллокационные метрики, надо их разделить. Посмотрим сначала, какое количество биграмм, триграмм и т.д. имеется:"
      ]
    },
    {
      "cell_type": "code",
      "metadata": {
        "colab": {
          "base_uri": "https://localhost:8080/"
        },
        "id": "kz9xr-PlhtHh",
        "outputId": "461ce4a0-0adf-4422-a556-e11d20963038"
      },
      "source": [
        "lengthes = {2: 0, 3: 0, 4: 0, 'more': 0}\r\n",
        "for x in ngrams:\r\n",
        "  if len(x.split())>4:\r\n",
        "    lengthes['more'] += 1\r\n",
        "  else:\r\n",
        "    lengthes[len(x.split())] += 1\r\n",
        "\r\n",
        "lengthes"
      ],
      "execution_count": 23,
      "outputs": [
        {
          "output_type": "execute_result",
          "data": {
            "text/plain": [
              "{2: 51424, 3: 12002, 4: 1086, 'more': 97}"
            ]
          },
          "metadata": {
            "tags": []
          },
          "execution_count": 23
        }
      ]
    },
    {
      "cell_type": "markdown",
      "metadata": {
        "id": "TxMDpWN1kCQ8"
      },
      "source": [
        "В основном биграммы и триграммы, а а также немного квадграмм, которые не будем брать во внимание. Разделим би- и триграммы на отдельные списки"
      ]
    },
    {
      "cell_type": "code",
      "metadata": {
        "id": "HpFZifMEkRzX"
      },
      "source": [
        "bigrams = []\r\n",
        "trigrams = []\r\n",
        "\r\n",
        "for x in ngrams:\r\n",
        "  if len(x.split()) == 2:\r\n",
        "    bigrams.append(x.split())\r\n",
        "  elif len(x.split()) == 3:\r\n",
        "    trigrams.append(x.split())\r\n"
      ],
      "execution_count": 24,
      "outputs": []
    },
    {
      "cell_type": "code",
      "metadata": {
        "id": "4zH4pyJWiyQ1"
      },
      "source": [
        "import nltk \r\n",
        "from nltk.collocations import *\r\n",
        "\r\n",
        "bigram_measures = nltk.collocations.BigramAssocMeasures()\r\n",
        "trigram_measures = nltk.collocations.TrigramAssocMeasures()\r\n",
        "\r\n",
        "finder2 = BigramCollocationFinder.from_documents(bigrams)\r\n",
        "finder3 = TrigramCollocationFinder.from_documents(trigrams)"
      ],
      "execution_count": 25,
      "outputs": []
    },
    {
      "cell_type": "markdown",
      "metadata": {
        "id": "Ie69g-DDHJyf"
      },
      "source": [
        "Применим частотные фильтры: для биграм как минимум три упоминания (так как их больше), для триграм - два "
      ]
    },
    {
      "cell_type": "code",
      "metadata": {
        "id": "mM7-CfPagmbE"
      },
      "source": [
        "finder2.apply_freq_filter(3)\r\n",
        "finder3.apply_freq_filter(2)"
      ],
      "execution_count": 26,
      "outputs": []
    },
    {
      "cell_type": "markdown",
      "metadata": {
        "id": "8gRltxn1HRA_"
      },
      "source": [
        "Получим топ-20 ранжированных коллокаций различными способами:"
      ]
    },
    {
      "cell_type": "code",
      "metadata": {
        "colab": {
          "base_uri": "https://localhost:8080/"
        },
        "id": "XQe7oCOfAIrN",
        "outputId": "87ddca36-3342-4c72-d248-ccdbf05ea4b6"
      },
      "source": [
        "finder2.nbest(bigram_measures.student_t, 20)"
      ],
      "execution_count": 27,
      "outputs": [
        {
          "output_type": "execute_result",
          "data": {
            "text/plain": [
              "[('a', 'size'),\n",
              " ('this', 'shirt'),\n",
              " ('this', 'bra'),\n",
              " ('this', 'item'),\n",
              " ('these', 'socks'),\n",
              " ('this', 'bag'),\n",
              " ('this', 'product'),\n",
              " ('a', 'pair'),\n",
              " ('this', 'costume'),\n",
              " ('another', 'one'),\n",
              " ('this', 'hat'),\n",
              " ('another', 'pair'),\n",
              " ('the', 'way'),\n",
              " ('these', 'pants'),\n",
              " ('these', 'jeans'),\n",
              " ('a', 'medium'),\n",
              " ('the', 'fact'),\n",
              " ('this', 'dress'),\n",
              " ('the', 'color'),\n",
              " ('sports', 'bra')]"
            ]
          },
          "metadata": {
            "tags": []
          },
          "execution_count": 27
        }
      ]
    },
    {
      "cell_type": "markdown",
      "metadata": {
        "id": "ib3ovWUNHcmQ"
      },
      "source": [
        "Нет сомнений, что Критерий Стьюдента ранжирует высокими действительно часто встречаемые коллокации, потому что существительные сопровождаются артиклем. Также можно заметить, что среди топа немного \"мусора\" - только size, way, medium, fact и color. Но эти коллокации не являются информативными для отчета, поэтому эта метрика не подходит для конкретной задачи"
      ]
    },
    {
      "cell_type": "code",
      "metadata": {
        "colab": {
          "base_uri": "https://localhost:8080/"
        },
        "id": "zi6AjSq7BLxN",
        "outputId": "9877929f-30ea-40a0-b324-107ceb7f20cd"
      },
      "source": [
        "finder2.nbest(bigram_measures.pmi, 20)"
      ],
      "execution_count": 28,
      "outputs": [
        {
          "output_type": "execute_result",
          "data": {
            "text/plain": [
              "[('arch', 'supports'),\n",
              " ('under', 'armour'),\n",
              " ('ear', 'muffs'),\n",
              " ('false', 'advertising'),\n",
              " ('conversation', 'starter'),\n",
              " ('eel', 'skin'),\n",
              " ('lottery', 'ticket'),\n",
              " ('star', 'wars'),\n",
              " ('olive', 'drab'),\n",
              " ('rash', 'guard'),\n",
              " ('eye', 'catcher'),\n",
              " ('rave', 'reviews'),\n",
              " ('THESE', 'GLASSES'),\n",
              " ('THESE', 'SOCKS'),\n",
              " ('burp', 'cloths'),\n",
              " ('super', 'heros'),\n",
              " ('thigh', 'highs'),\n",
              " ('bouncy', 'seat'),\n",
              " ('average', 'height'),\n",
              " ('synthetic', 'fibers')]"
            ]
          },
          "metadata": {
            "tags": []
          },
          "execution_count": 28
        }
      ]
    },
    {
      "cell_type": "markdown",
      "metadata": {
        "id": "pFT0VLNwIEOb"
      },
      "source": [
        "У метрики PMI есть явная склонность к высокому ранжированию коллокаций, состоящих из двух существительных (в рамках этого датасета и моего метода). Причем среди топ-20 очень мало того, что относится к названиям продуктов. По сравнению с предыдущей метрикой, где лишнее было достаточно просто почистить руками, здесь высоко ранжируется много всего странного. А явные названия товаров высоко ранжированы только с детерминантом this. Эта метрика точно не подойдет для отчета"
      ]
    },
    {
      "cell_type": "code",
      "metadata": {
        "colab": {
          "base_uri": "https://localhost:8080/"
        },
        "id": "SSve4_xmBkHl",
        "outputId": "eabaa58b-1c56-44a2-9529-95a844cc4929"
      },
      "source": [
        "finder2.nbest(bigram_measures.chi_sq, 20)"
      ],
      "execution_count": 29,
      "outputs": [
        {
          "output_type": "execute_result",
          "data": {
            "text/plain": [
              "[('rash', 'guard'),\n",
              " ('arch', 'supports'),\n",
              " ('ear', 'muffs'),\n",
              " ('conversation', 'starter'),\n",
              " ('star', 'wars'),\n",
              " ('false', 'advertising'),\n",
              " ('receiving', 'blankets'),\n",
              " ('leg', 'warmers'),\n",
              " ('olive', 'drab'),\n",
              " ('under', 'armour'),\n",
              " ('thigh', 'highs'),\n",
              " ('eye', 'catcher'),\n",
              " ('rave', 'reviews'),\n",
              " ('eel', 'skin'),\n",
              " ('lottery', 'ticket'),\n",
              " ('many', 'compliments'),\n",
              " ('super', 'heros'),\n",
              " ('THIS', 'PRODUCT'),\n",
              " ('card', 'holder'),\n",
              " ('adjustable', 'straps')]"
            ]
          },
          "metadata": {
            "tags": []
          },
          "execution_count": 29
        }
      ]
    },
    {
      "cell_type": "markdown",
      "metadata": {
        "id": "m6j8a9HXI9x2"
      },
      "source": [
        "Хи-квадрат выдает результат, похожий на выдачу ранжирования с метрикой PMI. По крайней мере набор биграмм такой же, немного отличается порядок. Опять же высоко ранжированы какие-то составные названия (rash guard, например, это наименование спортивной кофты). Но нет никаких коллокаций с оценочными прилагательными, и, как и выше было написано, много того, что к продуктам не относится совсем."
      ]
    },
    {
      "cell_type": "markdown",
      "metadata": {
        "id": "9L388mXGJd5Q"
      },
      "source": [
        "Наблюдаем, что биграммы не дают много информации о том, как пользователи относятся к тому или иному товару. Этому не благоприятствует наличие у каждой ИГ артикля , т.е. надо было их игнорировать, а также сложные составные названия. \r\n",
        "\r\n",
        "Возможно, триграммы подойдут под формат отчета лучше:"
      ]
    },
    {
      "cell_type": "code",
      "metadata": {
        "colab": {
          "base_uri": "https://localhost:8080/"
        },
        "id": "J9VvSUZeCUzs",
        "outputId": "74ab32cd-8fc6-43c1-cbbb-a78e8283a3a1"
      },
      "source": [
        "finder3.nbest(trigram_measures.student_t, 20)"
      ],
      "execution_count": 30,
      "outputs": [
        {
          "output_type": "execute_result",
          "data": {
            "text/plain": [
              "[('is', 'an', 'excellent'),\n",
              " ('this', 'sports', 'bra'),\n",
              " ('a', 'second', 'pair'),\n",
              " ('a', 'quality', 'product'),\n",
              " ('a', 'sports', 'bra'),\n",
              " ('a', 'second', 'one'),\n",
              " ('my', 'second', 'pair'),\n",
              " ('the', 'right', 'size'),\n",
              " ('best', 'sports', 'bra'),\n",
              " ('is', 'an', 'awesome'),\n",
              " ('this', 'back', 'pack'),\n",
              " ('a', 'size', 'medium'),\n",
              " ('is', 'light', 'weight'),\n",
              " ('a', 'cup', 'size'),\n",
              " ('these', 'boxer', 'briefs'),\n",
              " ('the', 'second', 'pair'),\n",
              " ('my', 'favorite', 'bra'),\n",
              " ('received', 'an', 'email'),\n",
              " ('my', 'third', 'pair'),\n",
              " ('great', 'sports', 'bra')]"
            ]
          },
          "metadata": {
            "tags": []
          },
          "execution_count": 30
        }
      ]
    },
    {
      "cell_type": "markdown",
      "metadata": {
        "id": "gaRo5PAtJ73c"
      },
      "source": [
        "Как и в случае с биграммами, высоко ранжируются коллокации с артиклями, которые не дают нам никакой информации. Однако уже есть прилагательные, но, из оценочного - только good. Другие относятся скорее к характеристикам самого товара, или являются порядковыми числительными."
      ]
    },
    {
      "cell_type": "code",
      "metadata": {
        "colab": {
          "base_uri": "https://localhost:8080/"
        },
        "id": "EuRvT9MDCwvo",
        "outputId": "0e984787-d96b-4c83-857b-fb33b081484e"
      },
      "source": [
        "finder3.nbest(trigram_measures.pmi, 20)"
      ],
      "execution_count": 31,
      "outputs": [
        {
          "output_type": "execute_result",
          "data": {
            "text/plain": [
              "[('layered', 'barrier', 'clones'),\n",
              " ('recycled', 'drink', 'boxes'),\n",
              " ('YOUR', 'PRODUCTS', 'EVER'),\n",
              " ('cheaper', 'knock', 'offs'),\n",
              " ('wally', 'world', 'specials'),\n",
              " ('disposable', 'foil', 'pan'),\n",
              " ('country', 'music', 'festival'),\n",
              " ('happy', 'tree', 'friends'),\n",
              " ('vintage', 'paratrooper', 'fatigues'),\n",
              " ('wooden', 'train', 'whistle'),\n",
              " ('block', 'check', 'pattern'),\n",
              " ('rough', 'kid', 'son'),\n",
              " ('upper', 'arm', 'decoration'),\n",
              " ('brief', 'history', 'lesson'),\n",
              " ('receiving', 'food', 'aid'),\n",
              " ('square', 'cardboard', 'box'),\n",
              " ('darker', 'wash', 'denimn'),\n",
              " ('rabbit', 'fur', 'poncho'),\n",
              " ('stainless', 'steel', 'cable'),\n",
              " ('fancy', 'store', 'boughtshirt')]"
            ]
          },
          "metadata": {
            "tags": []
          },
          "execution_count": 31
        }
      ]
    },
    {
      "cell_type": "code",
      "metadata": {
        "colab": {
          "base_uri": "https://localhost:8080/"
        },
        "id": "6rq_QPOuC4Pi",
        "outputId": "84f6ae1d-8ab2-424b-8ec6-576f03de4551"
      },
      "source": [
        "finder3.nbest(trigram_measures.chi_sq, 20)"
      ],
      "execution_count": 32,
      "outputs": [
        {
          "output_type": "execute_result",
          "data": {
            "text/plain": [
              "[('layered', 'barrier', 'clones'),\n",
              " ('recycled', 'drink', 'boxes'),\n",
              " ('YOUR', 'PRODUCTS', 'EVER'),\n",
              " ('cheaper', 'knock', 'offs'),\n",
              " ('wally', 'world', 'specials'),\n",
              " ('disposable', 'foil', 'pan'),\n",
              " ('happy', 'tree', 'friends'),\n",
              " ('wooden', 'train', 'whistle'),\n",
              " ('country', 'music', 'festival'),\n",
              " ('vintage', 'paratrooper', 'fatigues'),\n",
              " ('block', 'check', 'pattern'),\n",
              " ('upper', 'arm', 'decoration'),\n",
              " ('rough', 'kid', 'son'),\n",
              " ('brief', 'history', 'lesson'),\n",
              " ('receiving', 'food', 'aid'),\n",
              " ('square', 'cardboard', 'box'),\n",
              " ('darker', 'wash', 'denimn'),\n",
              " ('rabbit', 'fur', 'poncho'),\n",
              " ('stainless', 'steel', 'cable'),\n",
              " ('fancy', 'store', 'boughtshirt')]"
            ]
          },
          "metadata": {
            "tags": []
          },
          "execution_count": 32
        }
      ]
    },
    {
      "cell_type": "markdown",
      "metadata": {
        "id": "CDDUXl15K0Ls"
      },
      "source": [
        "Метрики PMI и хи-квадрат выдают похожие результаты, в топе одинаковые коллокации. Визуально они выглядят подходящими под отчет, потому что присутствуют не только банальные оценочные прилагательные. Но снова попадает достаточно много бессмыслицы, которая никак не относится к товарам одежды и аксессуаров. \r\n",
        "\r\n",
        "В целом, кажется, что t-test для триграмм показывает самый хороший и интерпретируемый результат, несмотря на то, что топ20 не является очень показательным (ниже топ-50 уже выглядит отлично, и действительно хорошо демонстрирует, понравился ли пользователю товар). Лишние сущности достаточно просто отследить на этом этапе, и убрать их вручную из рассмотрения на одном из предыдущих этапов."
      ]
    },
    {
      "cell_type": "code",
      "metadata": {
        "colab": {
          "base_uri": "https://localhost:8080/"
        },
        "id": "bLN7KLnaLlMC",
        "outputId": "dac994d1-d8dc-4aeb-f281-4da37ceae1e9"
      },
      "source": [
        "finder3.nbest(trigram_measures.student_t, 50)"
      ],
      "execution_count": 33,
      "outputs": [
        {
          "output_type": "execute_result",
          "data": {
            "text/plain": [
              "[('is', 'an', 'excellent'),\n",
              " ('this', 'sports', 'bra'),\n",
              " ('a', 'second', 'pair'),\n",
              " ('a', 'quality', 'product'),\n",
              " ('a', 'sports', 'bra'),\n",
              " ('a', 'second', 'one'),\n",
              " ('my', 'second', 'pair'),\n",
              " ('the', 'right', 'size'),\n",
              " ('best', 'sports', 'bra'),\n",
              " ('is', 'an', 'awesome'),\n",
              " ('this', 'back', 'pack'),\n",
              " ('a', 'size', 'medium'),\n",
              " ('is', 'light', 'weight'),\n",
              " ('a', 'cup', 'size'),\n",
              " ('these', 'boxer', 'briefs'),\n",
              " ('the', 'second', 'pair'),\n",
              " ('my', 'favorite', 'bra'),\n",
              " ('received', 'an', 'email'),\n",
              " ('my', 'third', 'pair'),\n",
              " ('great', 'sports', 'bra'),\n",
              " ('the', 'second', 'time'),\n",
              " ('is', 'an', 'amazing'),\n",
              " ('good', 'quality', 'product'),\n",
              " ('this', 'money', 'belt'),\n",
              " ('a', 'tank', 'top'),\n",
              " ('front', 'closure', 'bras'),\n",
              " ('is', 'an', 'adorable'),\n",
              " ('first', 'sports', 'bra'),\n",
              " ('this', 'style', 'bra'),\n",
              " ('the', 'second', 'one'),\n",
              " ('credit', 'card', 'holder'),\n",
              " ('a', 'snug', 'fit'),\n",
              " ('a', 'couple', 'pairs'),\n",
              " ('a', 'cute', 'costume'),\n",
              " ('good', 'quality', 'shirt'),\n",
              " ('a', 'strapless', 'bra'),\n",
              " ('the', 'black', 'one'),\n",
              " ('this', 'money', 'clip'),\n",
              " ('only', 'sports', 'bra'),\n",
              " ('my', 'wolf', 'shirt'),\n",
              " ('the', 'wolf', 'shirt'),\n",
              " ('a', 'wolf', 'shirt'),\n",
              " ('the', 'medium', 'size'),\n",
              " ('this', 'bow', 'tie'),\n",
              " ('this', 'waist', 'cincher'),\n",
              " ('high', 'quality', 'product'),\n",
              " ('a', 'couple', 'pair'),\n",
              " ('these', 'tank', 'tops'),\n",
              " ('wear', 'boxer', 'briefs'),\n",
              " ('these', 'tee', 'shirts')]"
            ]
          },
          "metadata": {
            "tags": []
          },
          "execution_count": 33
        }
      ]
    },
    {
      "cell_type": "code",
      "metadata": {
        "id": "4MfDn_3-rZJN"
      },
      "source": [
        "ranked_collocations = [' '.join(x[0]) for x in finder3.score_ngrams(trigram_measures.student_t)]"
      ],
      "execution_count": 37,
      "outputs": []
    },
    {
      "cell_type": "markdown",
      "metadata": {
        "id": "mGs32WYBDQ5p"
      },
      "source": [
        "##5"
      ]
    },
    {
      "cell_type": "code",
      "metadata": {
        "id": "rZ417-6zDSsx"
      },
      "source": [
        "grouped_cols = {}\r\n",
        "\r\n",
        "for entity in products:\r\n",
        "  grouped_cols[entity] = []\r\n",
        "  for col in ranked_collocations:\r\n",
        "    if len(entity.split())>0:\r\n",
        "      if entity in col:\r\n",
        "        if col not in grouped_cols[entity]:\r\n",
        "          grouped_cols[entity].append(col)\r\n",
        "    else:\r\n",
        "      if entity in col.split():\r\n",
        "        if col not in grouped_cols[entity]:\r\n",
        "          grouped_cols[entity].append(col)"
      ],
      "execution_count": 70,
      "outputs": []
    },
    {
      "cell_type": "code",
      "metadata": {
        "colab": {
          "base_uri": "https://localhost:8080/"
        },
        "id": "WEJ4x1waEfdr",
        "outputId": "6cea8148-0f2a-47cd-98c0-0acaa53ef11f"
      },
      "source": [
        "random5 = np.random.randint(len(products), size=5)\r\n",
        "\r\n",
        "for i in random5:\r\n",
        "  print(products[i])\r\n",
        "  print('- - - - -')\r\n",
        "  for collocation in grouped_cols[products[i]]:\r\n",
        "    print(collocation)\r\n",
        "  print('- - - - -')"
      ],
      "execution_count": 81,
      "outputs": [
        {
          "output_type": "stream",
          "text": [
            "bra\n",
            "- - - - -\n",
            "this sports bra\n",
            "a sports bra\n",
            "best sports bra\n",
            "my favorite bra\n",
            "great sports bra\n",
            "front closure bras\n",
            "first sports bra\n",
            "this style bra\n",
            "a strapless bra\n",
            "only sports bra\n",
            "these sports bras\n",
            "wear sports bras\n",
            "favorite sports bra\n",
            "best strapless bra\n",
            "this nursing bra\n",
            "normal bra size\n",
            "perfect sports bra\n",
            "a nursing bra\n",
            "these bra extenders\n",
            "wear underwire bras\n",
            "best nursing bra\n",
            "this model bra\n",
            "other sports bra\n",
            "best fitting bra\n",
            "full coverage bras\n",
            "other nursing bras\n",
            "first strapless bra\n",
            "wear strapless bras\n",
            "wrong bra size\n",
            "another sports bra\n",
            "this sleep bra\n",
            "my sports bras\n",
            "a sleep bra\n",
            "my bra size\n",
            "the sports bra\n",
            "a bra size\n",
            "full coverage bra\n",
            "brand name hat\n",
            "different brand bra\n",
            "best sport bra\n",
            "only strapless bra\n",
            "the name brand\n",
            "usual bra size\n",
            "best maternity bra\n",
            "best support bra\n",
            "model sports bra\n",
            "regular bra size\n",
            "an underwire bra\n",
            "excellent sports bra\n",
            "good sports bra\n",
            "my second bra\n",
            "MANY nursing bras\n",
            "front hook bras\n",
            "those bra extenders\n",
            "Love cotton bras\n",
            "new sport bras\n",
            "liked cotton bras\n",
            "several nursing bras\n",
            "high impact bras\n",
            "32D size bras\n",
            "standard strapless bras\n",
            "champion sports bras\n",
            "old sports bras\n",
            "wearing underwire bras\n",
            "love cotton bras\n",
            "like cotton bras\n",
            "underwire sports bras\n",
            "wearing compression bras\n",
            "wear support bras\n",
            "wearing strapless bras\n",
            "ordered sports bras\n",
            "love quality bras\n",
            "buy sports bras\n",
            "white sports bras\n",
            "black sports bras\n",
            "the bra extenders\n",
            "brand jock supporter\n",
            "mini cradle brace\n",
            "many designer brands\n",
            "only brand onsies\n",
            "wearing rubber bracelets\n",
            "last resort bra\n",
            "brand name visor\n",
            "designer brand underwear\n",
            "wear leg braces\n",
            "wore training bras\n",
            "the zebra print\n",
            "these coopers brand\n",
            "moderate impact bra\n",
            "long line bras\n",
            "front closing bras\n",
            "typical sport bra\n",
            "moving comfort bra\n",
            "brand passport holder\n",
            "serious workout bra\n",
            "different longline bra\n",
            "another name brand\n",
            "posture support bra\n",
            "purchase everyday bras\n",
            "some bra discs\n",
            "Dickies brand clothes\n",
            "the totes brand\n",
            "buy name brand\n",
            "panache bra style\n",
            "their water bra\n",
            "another brand suit\n",
            "ONLY nursing bra\n",
            "fancy nursing bra\n",
            "a nursing bra.2\n",
            "brands strapless bra\n",
            "this brand line\n",
            "old model bra\n",
            "a neck brace\n",
            "low end bra\n",
            "front hook bra\n",
            "same bra day\n",
            "best supports bra\n",
            "brand name pair\n",
            "padded sports bra\n",
            "supportive sports bra\n",
            "brand name bag\n",
            "38C bra size\n",
            "greatest sports bra\n",
            "is name brand\n",
            "a store brand\n",
            "wearing bra discs\n",
            "same bra name\n",
            "ONLY sports bra\n",
            "glorified sports bra\n",
            "snug sleep bra\n",
            "high impact bra\n",
            "this name brand\n",
            "wear silicone bra\n",
            "new workout bra\n",
            "great tshirt bra\n",
            "low cut bra\n",
            "first underwire bra\n",
            "my bra discs\n",
            "excellent sport bra\n",
            "large cup bra\n",
            "this longline bra\n",
            "another bra brand\n",
            "front closure bra\n",
            "a bra forsupport\n",
            "a bra offline\n",
            "great everyday bra\n",
            "an exercise bra\n",
            "favorite workout bra\n",
            "perfect strapless bra\n",
            "a name brand\n",
            "another strapless bra\n",
            "regular nursing bra\n",
            "this sleeping bra\n",
            "actual bra size\n",
            "black lace bra\n",
            "nursing sleep bra\n",
            "sleep nursing bra\n",
            "sports bra feature\n",
            "only bra style\n",
            "same bra style\n",
            "same style bra\n",
            "this bra extender\n",
            "another nursing bra\n",
            "good workout bra\n",
            "another style bra\n",
            "this brand jeans\n",
            "light fabric bra\n",
            "the pointy bra\n",
            "1st sports bra\n",
            "super sports bra\n",
            "favorite bra brand\n",
            "medium support bra\n",
            "great workout bra\n",
            "third nursing bra\n",
            "good sleep bra\n",
            "exact bra size\n",
            "new favorite bra\n",
            "tight sports bra\n",
            "a sleeping bra\n",
            "great sleep bra\n",
            "cheap sports bra\n",
            "great fitting bra\n",
            "different sports bra\n",
            "excellent strapless bra\n",
            "a wonder bra\n",
            "favorite nursing bra\n",
            "amazing sports bra\n",
            "regular sports bra\n",
            "underwire sports bra\n",
            "white cotton bra\n",
            "full size bra\n",
            "same sports bra\n",
            "black strapless bra\n",
            "fitting sports bra\n",
            "a comfy bra\n",
            "great strapless bra\n",
            "large bra size\n",
            "same bra size\n",
            "same size bra\n",
            "the bra part\n",
            "new sports bra\n",
            "awesome sports bra\n",
            "great nursing bra\n",
            "a lace bra\n",
            "this maternity bra\n",
            "this bra type\n",
            "tee shirt bra\n",
            "nice sports bra\n",
            "sports bra style\n",
            "style sports bra\n",
            "right size bra\n",
            "my nursing bra\n",
            "the belly bra\n",
            "this bra strapless\n",
            "the body bra\n",
            "a maternity bra\n",
            "medium size bra\n",
            "a support bra\n",
            "this bra style\n",
            "good quality bra\n",
            "this bra top\n",
            "wearing sports bra\n",
            "a compression bra\n",
            "the right bra\n",
            "these sports bra\n",
            "the nursing bra\n",
            "a bra style\n",
            "a light bra\n",
            "this size bra\n",
            "the second bra\n",
            "a quality bra\n",
            "the bra size\n",
            "- - - - -\n",
            "costume\n",
            "- - - - -\n",
            "a cute costume\n",
            "a fun costume\n",
            "high quality costume\n",
            "a quality costume\n",
            "super hero costumes\n",
            "wonder woman costume\n",
            "poor quality costume\n",
            "good costume piece\n",
            "this pirate costume\n",
            "great looking costume\n",
            "a costume wig\n",
            "good quality costume\n",
            "their pirate costumes\n",
            "his batman costume\n",
            "the costume pieces\n",
            "clone trooper costume\n",
            "riding hood costume\n",
            "cutest dog costume\n",
            "realistic costume play\n",
            "police officer costume\n",
            "cheap costume solution\n",
            "plain bear costume\n",
            "dorothy adult costume\n",
            "awsome astronaut costume\n",
            "super girl costume\n",
            "her frog costume\n",
            "police man costume\n",
            "infant baby costume\n",
            "these child costumes\n",
            "inexpensive costume accessory\n",
            "perfect frog costume\n",
            "realistic looking costume\n",
            "perfect costume sword\n",
            "Bought costume dress\n",
            "his police costume\n",
            "lowest quality costume\n",
            "stage quality costume\n",
            "3t-4t size costume\n",
            "full body costume\n",
            "this skeleton costume\n",
            "great costume accessory\n",
            "a childs costume\n",
            "nice costume robe\n",
            "this costume b\n",
            "a superman costume\n",
            "cheap costume hat\n",
            "higher quality costume\n",
            "his favorite costume\n",
            "better quality costume\n",
            "nice looking costume\n",
            "a pumpkin costume\n",
            "this police costume\n",
            "this astronaut costume\n",
            "good looking costume\n",
            "a dog costume\n",
            "adult size costume\n",
            "a pirate costume\n",
            "nice quality costume\n",
            "best quality costume\n",
            "a costume piece\n",
            "great quality costume\n",
            "this quality costume\n",
            "- - - - -\n",
            "sleeve shirt\n",
            "- - - - -\n",
            "long sleeve shirt\n",
            "long sleeve shirts\n",
            "short sleeve shirts\n",
            "half sleeve shirts\n",
            "- - - - -\n",
            "jacket\n",
            "- - - - -\n",
            "light weight jacket\n",
            "good quality jacket\n",
            "other denim jackets\n",
            "liked flight jackets\n",
            "mild weather jacket\n",
            "field jacket liner\n",
            "other flight jackets\n",
            "traditional wash jacket\n",
            "flimsy rain jacket\n",
            "rain slicker jacket\n",
            "shell rain jacket\n",
            "other sweatshirt jackets\n",
            "38S suit jacket\n",
            "bolero type jacket\n",
            "fantastic rain jacket\n",
            "quilted style jacket\n",
            "great city jacket\n",
            "great outerwear jacket\n",
            "heavy duty jacket\n",
            "school sports jackets\n",
            "great spring jacket\n",
            "Small size jacket\n",
            "first rain jacket\n",
            "blue rain jacket\n",
            "a jacket indoors\n",
            "full leather jacket\n",
            "L size jacket\n",
            "this jacket becuase\n",
            "first leather jacket\n",
            "other leather jacket\n",
            "best winter jacket\n",
            "great rain jacket\n",
            "nice leather jacket\n",
            "medium weight jacket\n",
            "quality rain jacket\n",
            "a camo jacket\n",
            "a life jacket\n",
            "black leather jacket\n",
            "light quality jacket\n",
            "a denim jacket\n",
            "a rain jacket\n",
            "this leather jacket\n",
            "a winter jacket\n",
            "great quality jacket\n",
            "a light jacket\n",
            "- - - - -\n",
            "hats\n",
            "- - - - -\n",
            "wearing straw hats\n",
            "wearing winter hats\n",
            "adult size hats\n",
            "soft wig hats\n",
            "like baseball hats\n",
            "cap style hats\n",
            "wear baseball hats\n",
            "wear wool hats\n",
            "- - - - -\n"
          ],
          "name": "stdout"
        }
      ]
    }
  ]
}